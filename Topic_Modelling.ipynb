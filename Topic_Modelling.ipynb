{
  "nbformat": 4,
  "nbformat_minor": 0,
  "metadata": {
    "accelerator": "GPU",
    "colab": {
      "name": "Topic_Modelling.ipynb",
      "provenance": [],
      "collapsed_sections": [],
      "machine_shape": "hm",
      "mount_file_id": "1q8WarmoE7q-tepTc1EKshTm0_kP-Am1P",
      "authorship_tag": "ABX9TyPaPzHBwwTy/oqreY04hv11",
      "include_colab_link": true
    },
    "kernelspec": {
      "display_name": "Python 3",
      "name": "python3"
    }
  },
  "cells": [
    {
      "cell_type": "markdown",
      "metadata": {
        "id": "view-in-github",
        "colab_type": "text"
      },
      "source": [
        "<a href=\"https://colab.research.google.com/github/jrakhshanda/Bayesian-Methods/blob/master/Topic_Modelling.ipynb\" target=\"_parent\"><img src=\"https://colab.research.google.com/assets/colab-badge.svg\" alt=\"Open In Colab\"/></a>"
      ]
    },
    {
      "cell_type": "code",
      "metadata": {
        "colab": {
          "base_uri": "https://localhost:8080/"
        },
        "id": "dqm73ydAruzP",
        "outputId": "c6bfd933-4eea-4dac-bff3-f0503a3f975a"
      },
      "source": [
        "!pip install pyLDAvis"
      ],
      "execution_count": 2,
      "outputs": [
        {
          "output_type": "stream",
          "text": [
            "Requirement already satisfied: pyLDAvis in /usr/local/lib/python3.6/dist-packages (3.2.1)\n",
            "Requirement already satisfied: numexpr in /usr/local/lib/python3.6/dist-packages (from pyLDAvis) (2.7.2)\n",
            "Requirement already satisfied: scipy>=0.18.0 in /usr/local/lib/python3.6/dist-packages (from pyLDAvis) (1.4.1)\n",
            "Requirement already satisfied: pandas>=0.17.0; python_version > \"3.5\" in /usr/local/lib/python3.6/dist-packages (from pyLDAvis) (1.1.5)\n",
            "Requirement already satisfied: wheel>=0.23.0 in /usr/local/lib/python3.6/dist-packages (from pyLDAvis) (0.36.2)\n",
            "Requirement already satisfied: jinja2>=2.7.2 in /usr/local/lib/python3.6/dist-packages (from pyLDAvis) (2.11.3)\n",
            "Requirement already satisfied: joblib>=0.8.4 in /usr/local/lib/python3.6/dist-packages (from pyLDAvis) (1.0.0)\n",
            "Requirement already satisfied: future in /usr/local/lib/python3.6/dist-packages (from pyLDAvis) (0.16.0)\n",
            "Requirement already satisfied: numpy>=1.9.2 in /usr/local/lib/python3.6/dist-packages (from pyLDAvis) (1.19.5)\n",
            "Requirement already satisfied: funcy in /usr/local/lib/python3.6/dist-packages (from pyLDAvis) (1.15)\n",
            "Requirement already satisfied: python-dateutil>=2.7.3 in /usr/local/lib/python3.6/dist-packages (from pandas>=0.17.0; python_version > \"3.5\"->pyLDAvis) (2.8.1)\n",
            "Requirement already satisfied: pytz>=2017.2 in /usr/local/lib/python3.6/dist-packages (from pandas>=0.17.0; python_version > \"3.5\"->pyLDAvis) (2018.9)\n",
            "Requirement already satisfied: MarkupSafe>=0.23 in /usr/local/lib/python3.6/dist-packages (from jinja2>=2.7.2->pyLDAvis) (1.1.1)\n",
            "Requirement already satisfied: six>=1.5 in /usr/local/lib/python3.6/dist-packages (from python-dateutil>=2.7.3->pandas>=0.17.0; python_version > \"3.5\"->pyLDAvis) (1.15.0)\n"
          ],
          "name": "stdout"
        }
      ]
    },
    {
      "cell_type": "code",
      "metadata": {
        "colab": {
          "base_uri": "https://localhost:8080/"
        },
        "id": "zaB89M6AohzS",
        "outputId": "36b6d9b7-5312-48f2-95e7-4b9c2fc16a62"
      },
      "source": [
        "import pandas as pd\r\n",
        "import numpy as np\r\n",
        "import matplotlib.pyplot as plt\r\n",
        "\r\n",
        "import nltk\r\n",
        "from nltk.corpus import wordnet\r\n",
        "\r\n",
        "import regex as re\r\n",
        "from nltk.stem.porter import PorterStemmer \r\n",
        "from nltk.tokenize import word_tokenize, sent_tokenize,RegexpTokenizer\r\n",
        "nltk.download('stopwords')\r\n",
        "nltk.download('punkt')\r\n",
        "nltk.download('averaged_perceptron_tagger')\r\n",
        "\r\n",
        "import pickle\r\n",
        "import os\r\n",
        "from os.path import isfile, join\r\n",
        "\r\n",
        "#for vectorizing\r\n",
        "nltk.download('stopwords')\r\n",
        "from nltk.stem.porter import *\r\n",
        "from nltk.stem.snowball import SnowballStemmer\r\n",
        "stemmer = SnowballStemmer(\"english\")\r\n",
        "\r\n",
        "import gensim.corpora as corpora\r\n",
        "from pprint import pprint\r\n",
        "import gensim\r\n",
        "\r\n",
        "import spacy\r\n",
        "\r\n",
        "import pyLDAvis.gensim\r\n",
        "import pickle \r\n",
        "import pyLDAvis\r\n",
        "\r\n",
        "#comment this out if you're not able to view any of the print lines\r\n",
        "from IPython.core.interactiveshell import InteractiveShell\r\n",
        "InteractiveShell.ast_node_interactivity = \"all\"\r\n",
        "%config InlineBackend.figure_format = 'retina'"
      ],
      "execution_count": 3,
      "outputs": [
        {
          "output_type": "stream",
          "text": [
            "[nltk_data] Downloading package stopwords to /root/nltk_data...\n",
            "[nltk_data]   Package stopwords is already up-to-date!\n",
            "[nltk_data] Downloading package punkt to /root/nltk_data...\n",
            "[nltk_data]   Package punkt is already up-to-date!\n",
            "[nltk_data] Downloading package averaged_perceptron_tagger to\n",
            "[nltk_data]     /root/nltk_data...\n",
            "[nltk_data]   Package averaged_perceptron_tagger is already up-to-\n",
            "[nltk_data]       date!\n",
            "[nltk_data] Downloading package stopwords to /root/nltk_data...\n",
            "[nltk_data]   Package stopwords is already up-to-date!\n"
          ],
          "name": "stdout"
        }
      ]
    },
    {
      "cell_type": "markdown",
      "metadata": {
        "id": "2f-KunQjzmBB"
      },
      "source": [
        "#Data"
      ]
    },
    {
      "cell_type": "code",
      "metadata": {
        "colab": {
          "base_uri": "https://localhost:8080/",
          "height": 194
        },
        "id": "ljxzmJ0TqAVg",
        "outputId": "5011c214-bdcc-4fc8-c497-9031c7bf5333"
      },
      "source": [
        "df = pd.read_csv('/content/drive/MyDrive/data/data.zip', compression='zip', header=0)\r\n",
        "df = df.loc[:,~df.columns.str.match(\"Unnamed\")]\r\n",
        "df.head()"
      ],
      "execution_count": 4,
      "outputs": [
        {
          "output_type": "execute_result",
          "data": {
            "text/html": [
              "<div>\n",
              "<style scoped>\n",
              "    .dataframe tbody tr th:only-of-type {\n",
              "        vertical-align: middle;\n",
              "    }\n",
              "\n",
              "    .dataframe tbody tr th {\n",
              "        vertical-align: top;\n",
              "    }\n",
              "\n",
              "    .dataframe thead th {\n",
              "        text-align: right;\n",
              "    }\n",
              "</style>\n",
              "<table border=\"1\" class=\"dataframe\">\n",
              "  <thead>\n",
              "    <tr style=\"text-align: right;\">\n",
              "      <th></th>\n",
              "      <th>PMID</th>\n",
              "      <th>Title</th>\n",
              "      <th>Abstract</th>\n",
              "    </tr>\n",
              "  </thead>\n",
              "  <tbody>\n",
              "    <tr>\n",
              "      <th>0</th>\n",
              "      <td>33581499</td>\n",
              "      <td>PCNA, a focus on replication stress and the al...</td>\n",
              "      <td>The maintenance of telomeres, which are specia...</td>\n",
              "    </tr>\n",
              "    <tr>\n",
              "      <th>1</th>\n",
              "      <td>33581339</td>\n",
              "      <td>Compositional Variability and Mutation Spectra...</td>\n",
              "      <td>COVID-19 and its causative pathogen SARS-CoV-2...</td>\n",
              "    </tr>\n",
              "    <tr>\n",
              "      <th>2</th>\n",
              "      <td>33580188</td>\n",
              "      <td>Histone variant H2A.B-H2B dimers are spontaneo...</td>\n",
              "      <td>H2A.B is an evolutionarily distant histone H2A...</td>\n",
              "    </tr>\n",
              "    <tr>\n",
              "      <th>3</th>\n",
              "      <td>33580181</td>\n",
              "      <td>Hypermutated phenotype in gliosarcoma of the s...</td>\n",
              "      <td>Gliosarcoma is a variant of glioblastoma with ...</td>\n",
              "    </tr>\n",
              "    <tr>\n",
              "      <th>4</th>\n",
              "      <td>33580144</td>\n",
              "      <td>Arsenic hexoxide has differential effects on c...</td>\n",
              "      <td>Arsenic is reportedly a biphasic inorganic com...</td>\n",
              "    </tr>\n",
              "  </tbody>\n",
              "</table>\n",
              "</div>"
            ],
            "text/plain": [
              "       PMID  ...                                           Abstract\n",
              "0  33581499  ...  The maintenance of telomeres, which are specia...\n",
              "1  33581339  ...  COVID-19 and its causative pathogen SARS-CoV-2...\n",
              "2  33580188  ...  H2A.B is an evolutionarily distant histone H2A...\n",
              "3  33580181  ...  Gliosarcoma is a variant of glioblastoma with ...\n",
              "4  33580144  ...  Arsenic is reportedly a biphasic inorganic com...\n",
              "\n",
              "[5 rows x 3 columns]"
            ]
          },
          "metadata": {
            "tags": []
          },
          "execution_count": 4
        }
      ]
    },
    {
      "cell_type": "code",
      "metadata": {
        "id": "apMOukKi0CF8"
      },
      "source": [
        "df['Text'] = df['Title'] + '. ' + df['Abstract']\r\n",
        "df['Text'] = df['Text'].astype('str')"
      ],
      "execution_count": 5,
      "outputs": []
    },
    {
      "cell_type": "markdown",
      "metadata": {
        "id": "E7x5bzZ9166t"
      },
      "source": [
        "# Reuseable Routiens"
      ]
    },
    {
      "cell_type": "code",
      "metadata": {
        "id": "WC3Sbdkb1-mk"
      },
      "source": [
        "def save_object(path, filename, obj):\r\n",
        "    print('Saving Object')\r\n",
        "    path_file = join(path, filename)    \r\n",
        "    pickle.dump(obj, open(path_file, 'wb'))\r\n",
        "    print('Save complete')\r\n",
        "\r\n",
        "def load_object(path, filename):\r\n",
        "    print('Attempting to Load Object')\r\n",
        "    path_file = join(path, filename)    \r\n",
        "    obj = pickle.load(open(path_file, \"rb\" ))\r\n",
        "    print('Load complete')\r\n",
        "    return obj\r\n",
        "\r\n",
        "def save_csv(path, filename, dataframe):\r\n",
        "    print('Saving Dataframe to CSV')\r\n",
        "    path_file = join(path, filename)    \r\n",
        "    dataframe.to_csv(path_file, index=False)\r\n",
        "\r\n",
        "def load_csv(path, filename):\r\n",
        "    print('Loading Dataframe From CSV')\r\n",
        "    path_file = join(path, filename)\r\n",
        "    dataframe = pd.read_csv(path_file)\r\n",
        "    return dataframe"
      ],
      "execution_count": 6,
      "outputs": []
    },
    {
      "cell_type": "markdown",
      "metadata": {
        "id": "5arZ4extzh_h"
      },
      "source": [
        "# Pre-processing"
      ]
    },
    {
      "cell_type": "code",
      "metadata": {
        "id": "WMIpYZLAqAxY"
      },
      "source": [
        "stopwords = nltk.corpus.stopwords.words('english')\r\n",
        "newStopWords = ['type','wild','function','observed','results','different','identified','from','furthermore','process','model','effect','known','suggest','damage','human','rat','rats',\r\n",
        "                'suggested','conclusion','determined','indicate','Moreover','system', 'form', 'treatment','disease','although','conclusion','including','exposure','repair','injury','cell',\r\n",
        "                'functions','compared','interaction','level','demonstrated','studies','substrate','interaction','shown','contrast','presence','important', 'response','cells', 'effect','risk',\r\n",
        "                'induction', 'increase', 'also', 'breaks','treated','showed','used','comet', 'affect', 'may', 'two','study','gene','end','ends','let','double','single','strands','stress',\r\n",
        "                'pathway','role','demonstrate','present','result','use','occur','appear','joining','affect','cause','induce','defect','induced','lead','complex','resistance','calls','ber',\r\n",
        "                'analyzed','include','similar','studied','method','addition','suggesting','background','gene','expression','investigated','promote','types','dna','proteins','protein', 'ner',\r\n",
        "                'high','low','agents','using','strands','cycle','drug','investigate','increased','that','induce','structure','bindings','binding','molecular','mouse','mice','activity',\r\n",
        "                'levels','level','patient','patients','dose','drug','recombination','yeast','strand','mutants','mutations','replications','homologous','genetic','genes','associative','lung',\r\n",
        "                'specific','light','molecular','binding','sequence','lines','cancer','poly','inhibitation','activation','nuclear','regulation','tumor','mismatch','excision','base',\r\n",
        "                'cellular','growth','irridation','tumors','mutations','transription','resistance','site','adducts','dose','enzyme','associated','analysis','species','tissue',\r\n",
        "                'factor','domain','clinical','cancers','liver','assay','irradiated','irradiation','nucleotide','one','damage','increase','resist','mechanism','association','group','groups','aging']\r\n",
        "stopwords.extend(newStopWords)"
      ],
      "execution_count": 10,
      "outputs": []
    },
    {
      "cell_type": "code",
      "metadata": {
        "id": "CIGTATj0zTQB"
      },
      "source": [
        "def preprocess(text):\r\n",
        "  text = stemmer.stem(text) \r\n",
        "  tokenizer = RegexpTokenizer(r'\\w+')\r\n",
        "  words_tokens = tokenizer.tokenize(text) \r\n",
        "  tokens = []  \r\n",
        "  for w in words_tokens:  \r\n",
        "    if w not in stopwords:  \r\n",
        "      tokens.append(w)  \r\n",
        "  tokens = [x for x in tokens if len(x) >= 3]\r\n",
        "  return tokens"
      ],
      "execution_count": 11,
      "outputs": []
    },
    {
      "cell_type": "code",
      "metadata": {
        "id": "CCPuOzmpNS-u"
      },
      "source": [
        "tokens = [preprocess(i) for i in df['Text']]"
      ],
      "execution_count": 30,
      "outputs": []
    },
    {
      "cell_type": "code",
      "metadata": {
        "colab": {
          "base_uri": "https://localhost:8080/"
        },
        "id": "EblsxpE0l4B8",
        "outputId": "d1ce54eb-7286-454c-a0b5-1ba7105cbbdb"
      },
      "source": [
        "#save_object('/content/drive/MyDrive/models','topic_tokens',tokens)\r\n",
        "tokens = load_object('/content/drive/MyDrive/models','topic_tokens')"
      ],
      "execution_count": 13,
      "outputs": [
        {
          "output_type": "stream",
          "text": [
            "Attempting to Load Object\n",
            "Load complete\n"
          ],
          "name": "stdout"
        }
      ]
    },
    {
      "cell_type": "markdown",
      "metadata": {
        "id": "Fpzaq1gNzxfz"
      },
      "source": [
        "# LDA model Training"
      ]
    },
    {
      "cell_type": "code",
      "metadata": {
        "colab": {
          "base_uri": "https://localhost:8080/"
        },
        "id": "DlgR5fwTzo9Z",
        "outputId": "6117ac83-b998-4bf5-f151-aab8f30045a9"
      },
      "source": [
        "# Create Dictionary\r\n",
        "id2word = corpora.Dictionary(tokens)\r\n",
        "# Create Corpus\r\n",
        "texts = tokens\r\n",
        "# Term Document Frequency\r\n",
        "corpus = [id2word.doc2bow(text) for text in texts]\r\n",
        "# View\r\n",
        "print(corpus[:1][0][:30])"
      ],
      "execution_count": 14,
      "outputs": [
        {
          "output_type": "stream",
          "text": [
            "[(0, 1), (1, 5), (2, 2), (3, 1), (4, 1), (5, 1), (6, 1), (7, 1), (8, 1), (9, 1), (10, 1), (11, 1), (12, 1), (13, 1), (14, 1), (15, 1), (16, 1), (17, 1), (18, 1), (19, 1), (20, 1), (21, 1), (22, 1), (23, 1), (24, 1), (25, 1), (26, 1), (27, 1), (28, 1), (29, 1)]\n"
          ],
          "name": "stdout"
        }
      ]
    },
    {
      "cell_type": "code",
      "metadata": {
        "id": "pMPIHyjwNOHD"
      },
      "source": [
        "# number of topics\r\n",
        "num_topics = 8\r\n",
        "# Build LDA model\r\n",
        "lda_model = gensim.models.LdaMulticore(corpus=corpus,\r\n",
        "                                       id2word=id2word,\r\n",
        "                                       num_topics=num_topics)\r\n",
        "# Print the Keyword in the 10 topics\r\n",
        "pprint(lda_model.print_topics())\r\n",
        "doc_lda = lda_model[corpus]\r\n"
      ],
      "execution_count": null,
      "outputs": []
    },
    {
      "cell_type": "code",
      "metadata": {
        "colab": {
          "base_uri": "https://localhost:8080/"
        },
        "id": "er4JnfMisQBU",
        "outputId": "8f24feba-b61e-4f95-c55c-3f6e4150df29"
      },
      "source": [
        "pprint(lda_model.print_topics())"
      ],
      "execution_count": 16,
      "outputs": [
        {
          "output_type": "stream",
          "text": [
            "[(0,\n",
            "  '0.007*\"genome\" + 0.006*\"chromosome\" + 0.004*\"dsb\" + 0.004*\"sequences\" + '\n",
            "  '0.003*\"chromosomal\" + 0.003*\"mutant\" + 0.003*\"break\" + 0.003*\"genomic\" + '\n",
            "  '0.003*\"plasmid\" + 0.003*\"dependent\"'),\n",
            " (1,\n",
            "  '0.009*\"mutation\" + 0.004*\"radiation\" + 0.004*\"lesions\" + '\n",
            "  '0.004*\"mutagenesis\" + 0.004*\"frequency\" + 0.003*\"mutagenic\" + '\n",
            "  '0.003*\"strains\" + 0.003*\"mutant\" + 0.003*\"synthesis\" + 0.003*\"however\"'),\n",
            " (2,\n",
            "  '0.010*\"radiation\" + 0.006*\"effects\" + 0.005*\"apoptosis\" + 0.004*\"p53\" + '\n",
            "  '0.004*\"gamma\" + 0.004*\"inhibition\" + 0.003*\"vitro\" + 0.003*\"cisplatin\" + '\n",
            "  '0.003*\"normal\" + 0.003*\"survival\"'),\n",
            " (3,\n",
            "  '0.014*\"p53\" + 0.007*\"mgmt\" + 0.005*\"transcription\" + 0.005*\"kinase\" + '\n",
            "  '0.005*\"replication\" + 0.005*\"dependent\" + 0.004*\"mitochondrial\" + '\n",
            "  '0.004*\"promoter\" + 0.004*\"atm\" + 0.004*\"apoptosis\"'),\n",
            " (4,\n",
            "  '0.012*\"parp\" + 0.009*\"adp\" + 0.008*\"polymerase\" + 0.007*\"ercc1\" + '\n",
            "  '0.007*\"ribose\" + 0.006*\"beta\" + 0.006*\"inhibitors\" + 0.005*\"therapy\" + '\n",
            "  '0.005*\"platinum\" + 0.004*\"ovarian\"'),\n",
            " (5,\n",
            "  '0.010*\"colorectal\" + 0.009*\"mutation\" + 0.009*\"mmr\" + 0.007*\"msi\" + '\n",
            "  '0.007*\"microsatellite\" + 0.006*\"instability\" + 0.006*\"cases\" + 0.006*\"msh2\" '\n",
            "  '+ 0.005*\"syndrome\" + 0.005*\"mlh1\"'),\n",
            " (6,\n",
            "  '0.008*\"chromatin\" + 0.006*\"replication\" + 0.005*\"transcription\" + '\n",
            "  '0.003*\"dependent\" + 0.003*\"histone\" + 0.003*\"involved\" + 0.003*\"synthesis\" '\n",
            "  '+ 0.003*\"processes\" + 0.003*\"factors\" + 0.003*\"ubiquitin\"'),\n",
            " (7,\n",
            "  '0.007*\"coli\" + 0.005*\"replication\" + 0.005*\"polymerase\" + '\n",
            "  '0.005*\"escherichia\" + 0.004*\"polymorphisms\" + 0.004*\"containing\" + '\n",
            "  '0.003*\"reca\" + 0.003*\"found\" + 0.003*\"glycosylase\" + 0.003*\"xrcc1\"')]\n"
          ],
          "name": "stdout"
        }
      ]
    },
    {
      "cell_type": "markdown",
      "metadata": {
        "id": "tTnIQVA0qqME"
      },
      "source": [
        "## Analysis of Results\r\n",
        "\r\n",
        "### What is the Dominant topic and its percentage contribution in each document?\r\n",
        "In LDA models, each document is composed of multiple topics. But, typically only one of the topics is dominant. The below code extracts this dominant topic for each sentence and shows the weight of the topic and the keywords in a nicely formatted output.\r\n",
        "\r\n",
        "This way, you will know which document belongs predominantly to which topic."
      ]
    },
    {
      "cell_type": "code",
      "metadata": {
        "id": "lou5_sEXwxpE"
      },
      "source": [
        "def format_topics_sentences(ldamodel=None, corpus = corpus, texts= texts):\r\n",
        "    # Init output\r\n",
        "    sent_topics_df = pd.DataFrame()\r\n",
        "\r\n",
        "    # Get main topic in each document\r\n",
        "    for i, row_list in enumerate(ldamodel[corpus]):\r\n",
        "        row = row_list[0] if ldamodel.per_word_topics else row_list            \r\n",
        "        # print(row)\r\n",
        "        row = sorted(row, key=lambda x: (x[1]), reverse=True)\r\n",
        "        # Get the Dominant topic, Perc Contribution and Keywords for each document\r\n",
        "        for j, (topic_num, prop_topic) in enumerate(row):\r\n",
        "            if j == 0:  # => dominant topic\r\n",
        "                wp = ldamodel.show_topic(topic_num)\r\n",
        "                topic_keywords = \", \".join([word for word, prop in wp])\r\n",
        "                sent_topics_df = sent_topics_df.append(pd.Series([int(topic_num), round(prop_topic,4), topic_keywords]), ignore_index=True)\r\n",
        "            else:\r\n",
        "                break\r\n",
        "    sent_topics_df.columns = ['Dominant_Topic', 'Perc_Contribution', 'Topic_Keywords']\r\n",
        "\r\n",
        "    # Add original text to the end of the output\r\n",
        "    contents = pd.Series(texts)\r\n",
        "    sent_topics_df = pd.concat([sent_topics_df, contents], axis=1)\r\n",
        "    return sent_topics_df\r\n"
      ],
      "execution_count": 48,
      "outputs": []
    },
    {
      "cell_type": "code",
      "metadata": {
        "id": "kP_00NIYxMDw"
      },
      "source": [
        "df_topic_sents_keywords = format_topics_sentences(ldamodel=lda_model, corpus=corpus, texts=texts)"
      ],
      "execution_count": 49,
      "outputs": []
    },
    {
      "cell_type": "code",
      "metadata": {
        "id": "aNyrP_2K1WC_"
      },
      "source": [
        "# Format\r\n",
        "df_dominant_topic = df_topic_sents_keywords.reset_index()\r\n",
        "df_dominant_topic.columns = ['PMID', 'Dominant Topic', 'Topic % Contribution', 'Keywords', 'Text']\r\n",
        "df_dominant_topic['PMID'] = df['PMID']\r\n",
        "df_dominant_topic.head(8)"
      ],
      "execution_count": null,
      "outputs": []
    },
    {
      "cell_type": "code",
      "metadata": {
        "id": "QcPXJtp9-gC4"
      },
      "source": [
        "#save_csv('/content/drive/MyDrive/data','dominant_topics',df_dominant_topic)\r\n",
        "#df_dominant_topic = load_csv('/content/drive/MyDrive/data','dominant_topics')\r\n",
        "pd.options.display.max_colwidth = 100\r\n",
        "df_dominant = df_dominant_topic.copy()"
      ],
      "execution_count": 34,
      "outputs": []
    },
    {
      "cell_type": "markdown",
      "metadata": {
        "id": "GGGFm6pBBvNW"
      },
      "source": [
        "### Frequency Distribution of Word Counts in Documents\r\n",
        "\r\n",
        "When working with a large number of documents, you want to know how big the documents are as a whole and by topic. Let’s plot the document word counts distribution."
      ]
    },
    {
      "cell_type": "code",
      "metadata": {
        "colab": {
          "base_uri": "https://localhost:8080/",
          "height": 1000
        },
        "id": "aActtodyB4se",
        "outputId": "8d1d18f7-dbb2-4811-8821-4beb48845d31"
      },
      "source": [
        "doc_lens = [len(d) for d in df_dominant.Text]\r\n",
        "\r\n",
        "# Plot\r\n",
        "plt.figure(figsize=(18,8))\r\n",
        "plt.rcParams.update({'font.size': 16})\r\n",
        "# plt.figure(figsize=(16,7), dpi=160)\r\n",
        "plt.hist(doc_lens, bins = 1000, color='navy')\r\n",
        "plt.text(2000, 900, \"Mean   : \" + str(round(np.mean(doc_lens))))\r\n",
        "plt.text(2000,  850, \"Median : \" + str(round(np.median(doc_lens))))\r\n",
        "plt.text(2000,  800, \"Stdev   : \" + str(round(np.std(doc_lens))))\r\n",
        "plt.text(2000,  750, \"1% quantile    : \" + str(round(np.quantile(doc_lens, q=0.01))))\r\n",
        "plt.text(2000,  700, \"99% quantile  : \" + str(round(np.quantile(doc_lens, q=0.99))))\r\n",
        "\r\n",
        "plt.gca().set(xlim=(0, 2500), ylabel='Number of Documents', xlabel='Document Word Count')\r\n",
        "plt.tick_params(size=16)\r\n",
        "plt.xticks(np.linspace(0,2500,9))\r\n",
        "plt.title('Distribution of Document Word Counts', fontdict=dict(size=22))\r\n",
        "plt.savefig('/content/drive/MyDrive/plots/distribution_word_counts.png')"
      ],
      "execution_count": 56,
      "outputs": [
        {
          "output_type": "execute_result",
          "data": {
            "text/plain": [
              "<Figure size 1296x576 with 0 Axes>"
            ]
          },
          "metadata": {
            "tags": []
          },
          "execution_count": 56
        },
        {
          "output_type": "execute_result",
          "data": {
            "text/plain": [
              "(array([  2.,   0.,   0.,   1.,   5.,   3.,   3.,   8.,   4.,   8.,   7.,\n",
              "          6.,   9.,  10.,  15.,   9.,  16.,  14.,  20.,  20.,  22.,  22.,\n",
              "         28.,  36.,  41.,  44.,  45.,  37.,  48.,  56.,  53.,  59.,  49.,\n",
              "         70.,  77.,  71.,  79.,  77.,  80.,  78.,  98.,  96.,  94.,  90.,\n",
              "        131., 121., 131., 141., 137., 139., 140., 181., 181., 170., 185.,\n",
              "        172., 176., 222., 208., 232., 269., 262., 274., 304., 286., 289.,\n",
              "        321., 325., 379., 335., 369., 384., 400., 405., 396., 394., 463.,\n",
              "        483., 498., 466., 481., 504., 522., 561., 576., 574., 642., 611.,\n",
              "        633., 625., 614., 668., 693., 647., 647., 681., 704., 762., 777.,\n",
              "        824., 859., 849., 822., 868., 774., 838., 912., 853., 849., 916.,\n",
              "        950., 873., 916., 823., 943., 983., 983., 978., 954., 925., 955.,\n",
              "        938., 948., 877., 927., 966., 986., 922., 927., 911., 888., 846.,\n",
              "        821., 907., 895., 953., 970., 903., 891., 880., 876., 928., 848.,\n",
              "        839., 850., 866., 841., 832., 846., 805., 717., 810., 749., 841.,\n",
              "        730., 730., 685., 659., 678., 693., 638., 621., 602., 565., 610.,\n",
              "        612., 544., 567., 545., 477., 522., 477., 467., 473., 492., 448.,\n",
              "        469., 377., 420., 393., 378., 384., 371., 359., 321., 303., 309.,\n",
              "        323., 263., 242., 283., 267., 229., 260., 247., 231., 227., 204.,\n",
              "        186., 179., 208., 175., 184., 172., 158., 152., 153., 104., 148.,\n",
              "        141., 137., 135., 116., 113., 111.,  97., 103.,  95.,  93., 113.,\n",
              "         82.,  95.,  81.,  82.,  89.,  64.,  69.,  79.,  61.,  67.,  57.,\n",
              "         65.,  53.,  64.,  53.,  38.,  53.,  57.,  62.,  54.,  47.,  47.,\n",
              "         42.,  29.,  31.,  29.,  30.,  44.,  36.,  35.,  31.,  30.,  40.,\n",
              "         26.,  35.,  34.,  23.,  20.,  30.,  28.,  27.,  20.,  23.,  13.,\n",
              "         20.,  19.,  25.,  20.,  17.,  26.,  12.,  18.,  18.,  21.,  18.,\n",
              "         16.,  10.,  13.,   9.,  16.,  11.,   7.,  16.,   5.,  10.,  13.,\n",
              "         10.,   9.,   9.,   8.,  15.,  11.,  14.,   6.,   8.,   5.,   9.,\n",
              "          8.,  10.,   4.,   6.,   6.,   7.,   7.,   5.,   5.,   4.,   2.,\n",
              "          5.,   3.,   7.,   5.,   7.,   6.,   5.,   7.,   7.,   3.,   5.,\n",
              "          5.,   3.,   3.,   5.,   4.,   2.,   2.,   3.,   4.,   5.,   3.,\n",
              "          4.,   5.,   2.,   4.,   4.,   5.,   2.,   1.,   2.,   2.,   1.,\n",
              "          1.,   7.,   5.,   3.,   2.,   3.,   1.,   2.,   2.,   3.,   3.,\n",
              "          4.,   0.,   1.,   0.,   1.,   2.,   0.,   1.,   3.,   2.,   3.,\n",
              "          2.,   3.,   2.,   2.,   1.,   2.,   0.,   1.,   3.,   1.,   2.,\n",
              "          2.,   0.,   0.,   1.,   2.,   0.,   1.,   0.,   1.,   2.,   0.,\n",
              "          1.,   0.,   1.,   0.,   1.,   0.,   1.,   0.,   1.,   0.,   0.,\n",
              "          2.,   0.,   0.,   1.,   0.,   0.,   0.,   0.,   1.,   1.,   0.,\n",
              "          1.,   0.,   0.,   0.,   1.,   0.,   0.,   0.,   1.,   0.,   0.,\n",
              "          0.,   0.,   0.,   0.,   0.,   0.,   1.,   0.,   1.,   0.,   0.,\n",
              "          0.,   0.,   0.,   0.,   0.,   1.,   1.,   1.,   0.,   0.,   0.,\n",
              "          1.,   0.,   1.,   0.,   0.,   0.,   0.,   0.,   0.,   0.,   0.,\n",
              "          0.,   0.,   0.,   1.,   0.,   0.,   0.,   0.,   1.,   0.,   0.,\n",
              "          0.,   0.,   0.,   1.,   0.,   1.,   0.,   0.,   1.,   1.,   0.,\n",
              "          0.,   0.,   0.,   0.,   0.,   0.,   0.,   1.,   0.,   0.,   0.,\n",
              "          0.,   0.,   0.,   0.,   0.,   0.,   0.,   0.,   1.,   0.,   1.,\n",
              "          0.,   0.,   1.,   1.,   0.,   0.,   0.,   0.,   0.,   0.,   0.,\n",
              "          0.,   0.,   0.,   0.,   0.,   0.,   0.,   0.,   1.,   0.,   0.,\n",
              "          0.,   0.,   0.,   0.,   0.,   0.,   0.,   0.,   1.,   0.,   0.,\n",
              "          0.,   0.,   0.,   0.,   0.,   0.,   0.,   0.,   0.,   0.,   0.,\n",
              "          0.,   0.,   1.,   0.,   0.,   0.,   0.,   1.,   0.,   0.,   0.,\n",
              "          0.,   0.,   0.,   0.,   0.,   0.,   0.,   0.,   0.,   0.,   0.,\n",
              "          0.,   1.,   0.,   0.,   0.,   0.,   2.,   0.,   0.,   0.,   0.,\n",
              "          0.,   0.,   0.,   1.,   0.,   1.,   1.,   1.,   1.,   0.,   0.,\n",
              "          0.,   0.,   0.,   0.,   0.,   0.,   1.,   0.,   0.,   0.,   0.,\n",
              "          0.,   0.,   0.,   0.,   1.,   0.,   0.,   0.,   0.,   1.,   0.,\n",
              "          0.,   0.,   0.,   1.,   0.,   0.,   0.,   0.,   1.,   0.,   0.,\n",
              "          0.,   0.,   0.,   0.,   0.,   0.,   0.,   0.,   0.,   0.,   0.,\n",
              "          0.,   0.,   0.,   0.,   0.,   0.,   0.,   1.,   0.,   0.,   0.,\n",
              "          0.,   0.,   0.,   0.,   0.,   0.,   0.,   0.,   0.,   0.,   0.,\n",
              "          0.,   0.,   0.,   0.,   0.,   0.,   0.,   0.,   0.,   0.,   0.,\n",
              "          0.,   0.,   0.,   0.,   0.,   0.,   0.,   0.,   0.,   0.,   0.,\n",
              "          0.,   0.,   0.,   0.,   0.,   0.,   0.,   0.,   0.,   0.,   0.,\n",
              "          0.,   0.,   0.,   0.,   1.,   0.,   0.,   0.,   0.,   0.,   0.,\n",
              "          0.,   0.,   0.,   1.,   0.,   0.,   0.,   0.,   0.,   0.,   0.,\n",
              "          0.,   0.,   0.,   0.,   0.,   0.,   0.,   0.,   0.,   0.,   0.,\n",
              "          0.,   0.,   0.,   0.,   0.,   0.,   0.,   0.,   0.,   0.,   0.,\n",
              "          0.,   0.,   0.,   0.,   0.,   0.,   0.,   0.,   0.,   0.,   0.,\n",
              "          0.,   0.,   0.,   0.,   0.,   0.,   0.,   0.,   0.,   0.,   0.,\n",
              "          0.,   0.,   0.,   0.,   0.,   0.,   0.,   0.,   0.,   0.,   0.,\n",
              "          0.,   0.,   0.,   0.,   0.,   0.,   0.,   0.,   0.,   0.,   0.,\n",
              "          0.,   0.,   0.,   0.,   0.,   0.,   0.,   0.,   0.,   0.,   0.,\n",
              "          0.,   0.,   0.,   0.,   0.,   0.,   0.,   0.,   0.,   0.,   0.,\n",
              "          0.,   0.,   0.,   0.,   0.,   0.,   0.,   0.,   0.,   0.,   0.,\n",
              "          0.,   0.,   0.,   0.,   0.,   0.,   0.,   0.,   0.,   0.,   0.,\n",
              "          0.,   0.,   0.,   0.,   0.,   0.,   0.,   0.,   0.,   0.,   0.,\n",
              "          0.,   0.,   0.,   0.,   0.,   0.,   0.,   0.,   0.,   0.,   0.,\n",
              "          0.,   0.,   0.,   0.,   0.,   0.,   0.,   0.,   0.,   0.,   0.,\n",
              "          0.,   0.,   0.,   0.,   0.,   0.,   0.,   0.,   0.,   0.,   0.,\n",
              "          0.,   0.,   0.,   0.,   0.,   0.,   0.,   0.,   0.,   0.,   0.,\n",
              "          0.,   0.,   0.,   0.,   0.,   0.,   0.,   0.,   0.,   0.,   0.,\n",
              "          0.,   0.,   0.,   0.,   0.,   0.,   0.,   0.,   0.,   0.,   0.,\n",
              "          0.,   0.,   0.,   0.,   0.,   0.,   0.,   0.,   0.,   0.,   0.,\n",
              "          0.,   0.,   0.,   0.,   0.,   0.,   0.,   0.,   0.,   0.,   0.,\n",
              "          0.,   0.,   0.,   0.,   0.,   0.,   0.,   0.,   0.,   0.,   0.,\n",
              "          0.,   0.,   0.,   0.,   0.,   0.,   0.,   0.,   0.,   0.,   0.,\n",
              "          0.,   0.,   0.,   0.,   0.,   0.,   0.,   0.,   0.,   0.,   0.,\n",
              "          0.,   0.,   0.,   0.,   0.,   0.,   0.,   0.,   0.,   0.,   0.,\n",
              "          0.,   0.,   0.,   0.,   0.,   0.,   0.,   0.,   0.,   0.,   0.,\n",
              "          0.,   0.,   0.,   0.,   0.,   0.,   0.,   0.,   0.,   0.,   0.,\n",
              "          0.,   0.,   0.,   0.,   0.,   0.,   0.,   0.,   0.,   0.,   0.,\n",
              "          0.,   0.,   0.,   0.,   0.,   0.,   0.,   0.,   0.,   1.]),\n",
              " array([  40.   ,   48.947,   57.894, ..., 8969.106, 8978.053, 8987.   ]),\n",
              " <a list of 1000 Patch objects>)"
            ]
          },
          "metadata": {
            "tags": []
          },
          "execution_count": 56
        },
        {
          "output_type": "execute_result",
          "data": {
            "text/plain": [
              "Text(2000, 900, 'Mean   : 1200')"
            ]
          },
          "metadata": {
            "tags": []
          },
          "execution_count": 56
        },
        {
          "output_type": "execute_result",
          "data": {
            "text/plain": [
              "Text(2000, 850, 'Median : 1177')"
            ]
          },
          "metadata": {
            "tags": []
          },
          "execution_count": 56
        },
        {
          "output_type": "execute_result",
          "data": {
            "text/plain": [
              "Text(2000, 800, 'Stdev   : 401')"
            ]
          },
          "metadata": {
            "tags": []
          },
          "execution_count": 56
        },
        {
          "output_type": "execute_result",
          "data": {
            "text/plain": [
              "Text(2000, 750, '1% quantile    : 369')"
            ]
          },
          "metadata": {
            "tags": []
          },
          "execution_count": 56
        },
        {
          "output_type": "execute_result",
          "data": {
            "text/plain": [
              "Text(2000, 700, '99% quantile  : 2323')"
            ]
          },
          "metadata": {
            "tags": []
          },
          "execution_count": 56
        },
        {
          "output_type": "execute_result",
          "data": {
            "text/plain": [
              "[Text(0, 0.5, 'Number of Documents'),\n",
              " (0.0, 2500.0),\n",
              " Text(0.5, 0, 'Document Word Count')]"
            ]
          },
          "metadata": {
            "tags": []
          },
          "execution_count": 56
        },
        {
          "output_type": "execute_result",
          "data": {
            "text/plain": [
              "([<matplotlib.axis.XTick at 0x7fd65e439da0>,\n",
              "  <matplotlib.axis.XTick at 0x7fd65e439d68>,\n",
              "  <matplotlib.axis.XTick at 0x7fd65e439b38>,\n",
              "  <matplotlib.axis.XTick at 0x7fd65caf8160>,\n",
              "  <matplotlib.axis.XTick at 0x7fd65caf8588>,\n",
              "  <matplotlib.axis.XTick at 0x7fd65caf8a20>,\n",
              "  <matplotlib.axis.XTick at 0x7fd65caf8eb8>,\n",
              "  <matplotlib.axis.XTick at 0x7fd65caf3390>,\n",
              "  <matplotlib.axis.XTick at 0x7fd65caf3828>],\n",
              " <a list of 9 Text major ticklabel objects>)"
            ]
          },
          "metadata": {
            "tags": []
          },
          "execution_count": 56
        },
        {
          "output_type": "execute_result",
          "data": {
            "text/plain": [
              "Text(0.5, 1.0, 'Distribution of Document Word Counts')"
            ]
          },
          "metadata": {
            "tags": []
          },
          "execution_count": 56
        },
        {
          "output_type": "display_data",
          "data": {
            "image/png": "[encoded data removed]",
            "text/plain": [
              "<Figure size 1296x576 with 1 Axes>"
            ]
          },
          "metadata": {
            "tags": [],
            "image/png": {
              "width": 1119,
              "height": 526
            },
            "needs_background": "light"
          }
        }
      ]
    },
    {
      "cell_type": "code",
      "metadata": {
        "colab": {
          "base_uri": "https://localhost:8080/",
          "height": 35
        },
        "id": "sOrWKML4FJ55",
        "outputId": "8d0f4d2a-9483-4d23-d5b0-2999e3dd5b12"
      },
      "source": [
        ""
      ],
      "execution_count": 55,
      "outputs": [
        {
          "output_type": "display_data",
          "data": {
            "text/plain": [
              "<Figure size 432x288 with 0 Axes>"
            ]
          },
          "metadata": {
            "tags": []
          }
        }
      ]
    },
    {
      "cell_type": "markdown",
      "metadata": {
        "id": "vepcv0ZUxsL4"
      },
      "source": [
        "### Visualize The topics"
      ]
    },
    {
      "cell_type": "code",
      "metadata": {
        "colab": {
          "base_uri": "https://localhost:8080/",
          "height": 240
        },
        "id": "VKzPZmjIqp2N",
        "outputId": "6bdb23c5-7a81-442e-d6b9-5e18a13cf831"
      },
      "source": [
        "# Visualize the topics\r\n",
        "pyLDAvis.enable_notebook()\r\n",
        "LDAvis_data_filepath = join('./results/ldavis_prepared_'+str(num_topics))\r\n",
        "# # this is a bit time consuming - make the if statement True\r\n",
        "# # if you want to execute visualization prep yourself\r\n",
        "if 1 == 1:\r\n",
        "    LDAvis_prepared = pyLDAvis.gensim.prepare(lda_model, corpus, id2word)\r\n",
        "    with open(LDAvis_data_filepath, 'wb') as f:\r\n",
        "        pickle.dump(LDAvis_prepared, f)\r\n",
        "# load the pre-prepared pyLDAvis data from disk\r\n",
        "with open(LDAvis_data_filepath, 'rb') as f:\r\n",
        "    LDAvis_prepared = pickle.load(f)\r\n",
        "pyLDAvis.save_html(LDAvis_prepared, '/content/drive/MyDrive/models'+ str(num_topics) +'.html')\r\n",
        "LDAvis_prepared"
      ],
      "execution_count": 45,
      "outputs": [
        {
          "output_type": "error",
          "ename": "FileNotFoundError",
          "evalue": "ignored",
          "traceback": [
            "\u001b[0;31m---------------------------------------------------------------------------\u001b[0m",
            "\u001b[0;31mFileNotFoundError\u001b[0m                         Traceback (most recent call last)",
            "\u001b[0;32m<ipython-input-45-207b09530ed6>\u001b[0m in \u001b[0;36m<module>\u001b[0;34m()\u001b[0m\n\u001b[1;32m      6\u001b[0m \u001b[0;32mif\u001b[0m \u001b[0;36m1\u001b[0m \u001b[0;34m==\u001b[0m \u001b[0;36m1\u001b[0m\u001b[0;34m:\u001b[0m\u001b[0;34m\u001b[0m\u001b[0;34m\u001b[0m\u001b[0m\n\u001b[1;32m      7\u001b[0m     \u001b[0mLDAvis_prepared\u001b[0m \u001b[0;34m=\u001b[0m \u001b[0mpyLDAvis\u001b[0m\u001b[0;34m.\u001b[0m\u001b[0mgensim\u001b[0m\u001b[0;34m.\u001b[0m\u001b[0mprepare\u001b[0m\u001b[0;34m(\u001b[0m\u001b[0mlda_model\u001b[0m\u001b[0;34m,\u001b[0m \u001b[0mcorpus\u001b[0m\u001b[0;34m,\u001b[0m \u001b[0mid2word\u001b[0m\u001b[0;34m)\u001b[0m\u001b[0;34m\u001b[0m\u001b[0;34m\u001b[0m\u001b[0m\n\u001b[0;32m----> 8\u001b[0;31m     \u001b[0;32mwith\u001b[0m \u001b[0mopen\u001b[0m\u001b[0;34m(\u001b[0m\u001b[0mLDAvis_data_filepath\u001b[0m\u001b[0;34m,\u001b[0m \u001b[0;34m'wb'\u001b[0m\u001b[0;34m)\u001b[0m \u001b[0;32mas\u001b[0m \u001b[0mf\u001b[0m\u001b[0;34m:\u001b[0m\u001b[0;34m\u001b[0m\u001b[0;34m\u001b[0m\u001b[0m\n\u001b[0m\u001b[1;32m      9\u001b[0m         \u001b[0mpickle\u001b[0m\u001b[0;34m.\u001b[0m\u001b[0mdump\u001b[0m\u001b[0;34m(\u001b[0m\u001b[0mLDAvis_prepared\u001b[0m\u001b[0;34m,\u001b[0m \u001b[0mf\u001b[0m\u001b[0;34m)\u001b[0m\u001b[0;34m\u001b[0m\u001b[0;34m\u001b[0m\u001b[0m\n\u001b[1;32m     10\u001b[0m \u001b[0;31m# load the pre-prepared pyLDAvis data from disk\u001b[0m\u001b[0;34m\u001b[0m\u001b[0;34m\u001b[0m\u001b[0;34m\u001b[0m\u001b[0m\n",
            "\u001b[0;31mFileNotFoundError\u001b[0m: [Errno 2] No such file or directory: './results/ldavis_prepared_8'"
          ]
        }
      ]
    },
    {
      "cell_type": "code",
      "metadata": {
        "id": "UdLNpb8rSkjB"
      },
      "source": [
        ""
      ],
      "execution_count": null,
      "outputs": []
    }
  ]
}