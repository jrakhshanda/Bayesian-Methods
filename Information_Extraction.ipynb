{
  "nbformat": 4,
  "nbformat_minor": 0,
  "metadata": {
    "colab": {
      "name": "Information_Extraction.ipynb",
      "provenance": [],
      "collapsed_sections": [
        "QqrbLF8QxLME"
      ],
      "mount_file_id": "16PbwkpJuMUs4A5WvdMpyqlqO7Rf8PQ35",
      "authorship_tag": "ABX9TyOxoy/6zXx1eXQdb80hNQXZ",
      "include_colab_link": true
    },
    "kernelspec": {
      "name": "python3",
      "display_name": "Python 3"
    },
    "accelerator": "GPU"
  },
  "cells": [
    {
      "cell_type": "markdown",
      "metadata": {
        "id": "view-in-github",
        "colab_type": "text"
      },
      "source": [
        "<a href=\"https://colab.research.google.com/github/jrakhshanda/Bayesian-Methods/blob/master/Information_Extraction.ipynb\" target=\"_parent\"><img src=\"https://colab.research.google.com/assets/colab-badge.svg\" alt=\"Open In Colab\"/></a>"
      ]
    },
    {
      "cell_type": "markdown",
      "metadata": {
        "id": "srnhrWtd68J6"
      },
      "source": [
        "# Co-occurance on Cancer Dataset\r\n",
        "[github](https://github.com/luntos/bianalyzer)"
      ]
    },
    {
      "cell_type": "code",
      "metadata": {
        "id": "Mkk_p_HzMmqZ"
      },
      "source": [
        "!pip uninstall spacy \r\n",
        "!pip install -U spacy==2.3.0 \r\n",
        "!pip install  scispacy==v0.2.5\r\n",
        "!pip install https://s3-us-west-2.amazonaws.com/ai2-s2-scispacy/releases/v0.2.5/en_core_sci_lg-0.2.5.tar.gz"
      ],
      "execution_count": null,
      "outputs": []
    },
    {
      "cell_type": "code",
      "metadata": {
        "id": "a-P9QzODTR-l"
      },
      "source": [
        "!pip install https://s3-us-west-2.amazonaws.com/ai2-s2-scispacy/releases/v0.2.4/en_ner_jnlpba_md-0.2.4.tar.gz\r\n",
        "!pip install https://s3-us-west-2.amazonaws.com/ai2-s2-scispacy/releases/v0.2.4/en_ner_bionlp13cg_md-0.2.4.tar.gz \r\n",
        "!pip install https://s3-us-west-2.amazonaws.com/ai2-s2-scispacy/releases/v0.2.4/en_ner_bc5cdr_md-0.2.4.tar.gz "
      ],
      "execution_count": null,
      "outputs": []
    },
    {
      "cell_type": "code",
      "metadata": {
        "id": "HkETZYBaAiAL"
      },
      "source": [
        "mkdir temp "
      ],
      "execution_count": 3,
      "outputs": []
    },
    {
      "cell_type": "code",
      "metadata": {
        "colab": {
          "base_uri": "https://localhost:8080/"
        },
        "id": "p2pd_G0ADLmF",
        "outputId": "388a3cef-65da-4814-bf5a-7f888534c7c1"
      },
      "source": [
        "cd temp"
      ],
      "execution_count": 4,
      "outputs": [
        {
          "output_type": "stream",
          "text": [
            "/content/temp\n"
          ],
          "name": "stdout"
        }
      ]
    },
    {
      "cell_type": "code",
      "metadata": {
        "colab": {
          "base_uri": "https://localhost:8080/"
        },
        "id": "B4OaNWRHDNtf",
        "outputId": "0bf61174-00c6-40a7-e086-3f1a695f1785"
      },
      "source": [
        "!git clone https://github.com/huggingface/neuralcoref.git"
      ],
      "execution_count": 5,
      "outputs": [
        {
          "output_type": "stream",
          "text": [
            "Cloning into 'neuralcoref'...\n",
            "remote: Enumerating objects: 16, done.\u001b[K\n",
            "remote: Counting objects: 100% (16/16), done.\u001b[K\n",
            "remote: Compressing objects: 100% (14/14), done.\u001b[K\n",
            "remote: Total 764 (delta 5), reused 3 (delta 1), pack-reused 748\u001b[K\n",
            "Receiving objects: 100% (764/764), 67.84 MiB | 22.40 MiB/s, done.\n",
            "Resolving deltas: 100% (402/402), done.\n"
          ],
          "name": "stdout"
        }
      ]
    },
    {
      "cell_type": "code",
      "metadata": {
        "colab": {
          "base_uri": "https://localhost:8080/"
        },
        "id": "0Q9D3E_ADTnP",
        "outputId": "2066e672-51df-4cc5-edc8-a4bc4688e771"
      },
      "source": [
        "cd neuralcoref"
      ],
      "execution_count": 6,
      "outputs": [
        {
          "output_type": "stream",
          "text": [
            "/content/temp/neuralcoref\n"
          ],
          "name": "stdout"
        }
      ]
    },
    {
      "cell_type": "code",
      "metadata": {
        "colab": {
          "base_uri": "https://localhost:8080/"
        },
        "id": "KB4bp02fDWej",
        "outputId": "a3b4ae9a-a323-4969-fc05-177e0ebd187e"
      },
      "source": [
        "!pip install -r requirements.txt"
      ],
      "execution_count": 7,
      "outputs": [
        {
          "output_type": "stream",
          "text": [
            "Requirement already satisfied: spacy<3.0.0,>=2.1.0 in /usr/local/lib/python3.6/dist-packages (from -r requirements.txt (line 1)) (2.3.0)\n",
            "Requirement already satisfied: cython>=0.25 in /usr/local/lib/python3.6/dist-packages (from -r requirements.txt (line 2)) (0.29.21)\n",
            "Requirement already satisfied: pytest in /usr/local/lib/python3.6/dist-packages (from -r requirements.txt (line 3)) (3.6.4)\n",
            "Requirement already satisfied: requests<3.0.0,>=2.13.0 in /usr/local/lib/python3.6/dist-packages (from spacy<3.0.0,>=2.1.0->-r requirements.txt (line 1)) (2.23.0)\n",
            "Requirement already satisfied: tqdm<5.0.0,>=4.38.0 in /usr/local/lib/python3.6/dist-packages (from spacy<3.0.0,>=2.1.0->-r requirements.txt (line 1)) (4.41.1)\n",
            "Requirement already satisfied: wasabi<1.1.0,>=0.4.0 in /usr/local/lib/python3.6/dist-packages (from spacy<3.0.0,>=2.1.0->-r requirements.txt (line 1)) (0.8.2)\n",
            "Requirement already satisfied: numpy>=1.15.0 in /usr/local/lib/python3.6/dist-packages (from spacy<3.0.0,>=2.1.0->-r requirements.txt (line 1)) (1.19.5)\n",
            "Requirement already satisfied: catalogue<1.1.0,>=0.0.7 in /usr/local/lib/python3.6/dist-packages (from spacy<3.0.0,>=2.1.0->-r requirements.txt (line 1)) (1.0.0)\n",
            "Requirement already satisfied: blis<0.5.0,>=0.4.0 in /usr/local/lib/python3.6/dist-packages (from spacy<3.0.0,>=2.1.0->-r requirements.txt (line 1)) (0.4.1)\n",
            "Requirement already satisfied: setuptools in /usr/local/lib/python3.6/dist-packages (from spacy<3.0.0,>=2.1.0->-r requirements.txt (line 1)) (53.0.0)\n",
            "Requirement already satisfied: preshed<3.1.0,>=3.0.2 in /usr/local/lib/python3.6/dist-packages (from spacy<3.0.0,>=2.1.0->-r requirements.txt (line 1)) (3.0.5)\n",
            "Requirement already satisfied: thinc==7.4.1 in /usr/local/lib/python3.6/dist-packages (from spacy<3.0.0,>=2.1.0->-r requirements.txt (line 1)) (7.4.1)\n",
            "Requirement already satisfied: srsly<1.1.0,>=1.0.2 in /usr/local/lib/python3.6/dist-packages (from spacy<3.0.0,>=2.1.0->-r requirements.txt (line 1)) (1.0.5)\n",
            "Requirement already satisfied: cymem<2.1.0,>=2.0.2 in /usr/local/lib/python3.6/dist-packages (from spacy<3.0.0,>=2.1.0->-r requirements.txt (line 1)) (2.0.5)\n",
            "Requirement already satisfied: plac<1.2.0,>=0.9.6 in /usr/local/lib/python3.6/dist-packages (from spacy<3.0.0,>=2.1.0->-r requirements.txt (line 1)) (1.1.3)\n",
            "Requirement already satisfied: murmurhash<1.1.0,>=0.28.0 in /usr/local/lib/python3.6/dist-packages (from spacy<3.0.0,>=2.1.0->-r requirements.txt (line 1)) (1.0.5)\n",
            "Requirement already satisfied: pluggy<0.8,>=0.5 in /usr/local/lib/python3.6/dist-packages (from pytest->-r requirements.txt (line 3)) (0.7.1)\n",
            "Requirement already satisfied: py>=1.5.0 in /usr/local/lib/python3.6/dist-packages (from pytest->-r requirements.txt (line 3)) (1.10.0)\n",
            "Requirement already satisfied: attrs>=17.4.0 in /usr/local/lib/python3.6/dist-packages (from pytest->-r requirements.txt (line 3)) (20.3.0)\n",
            "Requirement already satisfied: six>=1.10.0 in /usr/local/lib/python3.6/dist-packages (from pytest->-r requirements.txt (line 3)) (1.15.0)\n",
            "Requirement already satisfied: atomicwrites>=1.0 in /usr/local/lib/python3.6/dist-packages (from pytest->-r requirements.txt (line 3)) (1.4.0)\n",
            "Requirement already satisfied: more-itertools>=4.0.0 in /usr/local/lib/python3.6/dist-packages (from pytest->-r requirements.txt (line 3)) (8.7.0)\n",
            "Requirement already satisfied: chardet<4,>=3.0.2 in /usr/local/lib/python3.6/dist-packages (from requests<3.0.0,>=2.13.0->spacy<3.0.0,>=2.1.0->-r requirements.txt (line 1)) (3.0.4)\n",
            "Requirement already satisfied: urllib3!=1.25.0,!=1.25.1,<1.26,>=1.21.1 in /usr/local/lib/python3.6/dist-packages (from requests<3.0.0,>=2.13.0->spacy<3.0.0,>=2.1.0->-r requirements.txt (line 1)) (1.24.3)\n",
            "Requirement already satisfied: certifi>=2017.4.17 in /usr/local/lib/python3.6/dist-packages (from requests<3.0.0,>=2.13.0->spacy<3.0.0,>=2.1.0->-r requirements.txt (line 1)) (2020.12.5)\n",
            "Requirement already satisfied: idna<3,>=2.5 in /usr/local/lib/python3.6/dist-packages (from requests<3.0.0,>=2.13.0->spacy<3.0.0,>=2.1.0->-r requirements.txt (line 1)) (2.10)\n",
            "Requirement already satisfied: importlib-metadata>=0.20; python_version < \"3.8\" in /usr/local/lib/python3.6/dist-packages (from catalogue<1.1.0,>=0.0.7->spacy<3.0.0,>=2.1.0->-r requirements.txt (line 1)) (3.4.0)\n",
            "Requirement already satisfied: typing-extensions>=3.6.4; python_version < \"3.8\" in /usr/local/lib/python3.6/dist-packages (from importlib-metadata>=0.20; python_version < \"3.8\"->catalogue<1.1.0,>=0.0.7->spacy<3.0.0,>=2.1.0->-r requirements.txt (line 1)) (3.7.4.3)\n",
            "Requirement already satisfied: zipp>=0.5 in /usr/local/lib/python3.6/dist-packages (from importlib-metadata>=0.20; python_version < \"3.8\"->catalogue<1.1.0,>=0.0.7->spacy<3.0.0,>=2.1.0->-r requirements.txt (line 1)) (3.4.0)\n"
          ],
          "name": "stdout"
        }
      ]
    },
    {
      "cell_type": "code",
      "metadata": {
        "colab": {
          "base_uri": "https://localhost:8080/"
        },
        "id": "Mxie1mTVDc0g",
        "outputId": "54c11769-fcce-4047-e4ca-882363357de1"
      },
      "source": [
        "!pip install -e ."
      ],
      "execution_count": 8,
      "outputs": [
        {
          "output_type": "stream",
          "text": [
            "Obtaining file:///content/temp/neuralcoref\n",
            "Requirement already satisfied: numpy>=1.15.0 in /usr/local/lib/python3.6/dist-packages (from neuralcoref==4.0) (1.19.5)\n",
            "Collecting boto3\n",
            "\u001b[?25l  Downloading https://files.pythonhosted.org/packages/7c/6a/a6311de2e27d17b6e2f9d567411d1701f02b1f44f77683d8f4484876a2e8/boto3-1.17.13-py2.py3-none-any.whl (130kB)\n",
            "\u001b[K     |████████████████████████████████| 133kB 7.2MB/s \n",
            "\u001b[?25hRequirement already satisfied: requests<3.0.0,>=2.13.0 in /usr/local/lib/python3.6/dist-packages (from neuralcoref==4.0) (2.23.0)\n",
            "Requirement already satisfied: spacy>=2.1.0 in /usr/local/lib/python3.6/dist-packages (from neuralcoref==4.0) (2.3.0)\n",
            "Collecting jmespath<1.0.0,>=0.7.1\n",
            "  Downloading https://files.pythonhosted.org/packages/07/cb/5f001272b6faeb23c1c9e0acc04d48eaaf5c862c17709d20e3469c6e0139/jmespath-0.10.0-py2.py3-none-any.whl\n",
            "Collecting botocore<1.21.0,>=1.20.13\n",
            "\u001b[?25l  Downloading https://files.pythonhosted.org/packages/d9/60/34ecbbcf9baca00454d599430b3da56b1b981879342ea489e8ffe57ec8b6/botocore-1.20.13-py2.py3-none-any.whl (7.3MB)\n",
            "\u001b[K     |████████████████████████████████| 7.3MB 15.5MB/s \n",
            "\u001b[?25hCollecting s3transfer<0.4.0,>=0.3.0\n",
            "\u001b[?25l  Downloading https://files.pythonhosted.org/packages/ea/43/4b4a1b26eb03a429a4c37ca7fdf369d938bd60018fc194e94b8379b0c77c/s3transfer-0.3.4-py2.py3-none-any.whl (69kB)\n",
            "\u001b[K     |████████████████████████████████| 71kB 7.5MB/s \n",
            "\u001b[?25hRequirement already satisfied: certifi>=2017.4.17 in /usr/local/lib/python3.6/dist-packages (from requests<3.0.0,>=2.13.0->neuralcoref==4.0) (2020.12.5)\n",
            "Requirement already satisfied: chardet<4,>=3.0.2 in /usr/local/lib/python3.6/dist-packages (from requests<3.0.0,>=2.13.0->neuralcoref==4.0) (3.0.4)\n",
            "Requirement already satisfied: idna<3,>=2.5 in /usr/local/lib/python3.6/dist-packages (from requests<3.0.0,>=2.13.0->neuralcoref==4.0) (2.10)\n",
            "Requirement already satisfied: urllib3!=1.25.0,!=1.25.1,<1.26,>=1.21.1 in /usr/local/lib/python3.6/dist-packages (from requests<3.0.0,>=2.13.0->neuralcoref==4.0) (1.24.3)\n",
            "Requirement already satisfied: srsly<1.1.0,>=1.0.2 in /usr/local/lib/python3.6/dist-packages (from spacy>=2.1.0->neuralcoref==4.0) (1.0.5)\n",
            "Requirement already satisfied: murmurhash<1.1.0,>=0.28.0 in /usr/local/lib/python3.6/dist-packages (from spacy>=2.1.0->neuralcoref==4.0) (1.0.5)\n",
            "Requirement already satisfied: thinc==7.4.1 in /usr/local/lib/python3.6/dist-packages (from spacy>=2.1.0->neuralcoref==4.0) (7.4.1)\n",
            "Requirement already satisfied: blis<0.5.0,>=0.4.0 in /usr/local/lib/python3.6/dist-packages (from spacy>=2.1.0->neuralcoref==4.0) (0.4.1)\n",
            "Requirement already satisfied: wasabi<1.1.0,>=0.4.0 in /usr/local/lib/python3.6/dist-packages (from spacy>=2.1.0->neuralcoref==4.0) (0.8.2)\n",
            "Requirement already satisfied: plac<1.2.0,>=0.9.6 in /usr/local/lib/python3.6/dist-packages (from spacy>=2.1.0->neuralcoref==4.0) (1.1.3)\n",
            "Requirement already satisfied: catalogue<1.1.0,>=0.0.7 in /usr/local/lib/python3.6/dist-packages (from spacy>=2.1.0->neuralcoref==4.0) (1.0.0)\n",
            "Requirement already satisfied: tqdm<5.0.0,>=4.38.0 in /usr/local/lib/python3.6/dist-packages (from spacy>=2.1.0->neuralcoref==4.0) (4.41.1)\n",
            "Requirement already satisfied: preshed<3.1.0,>=3.0.2 in /usr/local/lib/python3.6/dist-packages (from spacy>=2.1.0->neuralcoref==4.0) (3.0.5)\n",
            "Requirement already satisfied: cymem<2.1.0,>=2.0.2 in /usr/local/lib/python3.6/dist-packages (from spacy>=2.1.0->neuralcoref==4.0) (2.0.5)\n",
            "Requirement already satisfied: setuptools in /usr/local/lib/python3.6/dist-packages (from spacy>=2.1.0->neuralcoref==4.0) (53.0.0)\n",
            "Requirement already satisfied: python-dateutil<3.0.0,>=2.1 in /usr/local/lib/python3.6/dist-packages (from botocore<1.21.0,>=1.20.13->boto3->neuralcoref==4.0) (2.8.1)\n",
            "Requirement already satisfied: importlib-metadata>=0.20; python_version < \"3.8\" in /usr/local/lib/python3.6/dist-packages (from catalogue<1.1.0,>=0.0.7->spacy>=2.1.0->neuralcoref==4.0) (3.4.0)\n",
            "Requirement already satisfied: six>=1.5 in /usr/local/lib/python3.6/dist-packages (from python-dateutil<3.0.0,>=2.1->botocore<1.21.0,>=1.20.13->boto3->neuralcoref==4.0) (1.15.0)\n",
            "Requirement already satisfied: typing-extensions>=3.6.4; python_version < \"3.8\" in /usr/local/lib/python3.6/dist-packages (from importlib-metadata>=0.20; python_version < \"3.8\"->catalogue<1.1.0,>=0.0.7->spacy>=2.1.0->neuralcoref==4.0) (3.7.4.3)\n",
            "Requirement already satisfied: zipp>=0.5 in /usr/local/lib/python3.6/dist-packages (from importlib-metadata>=0.20; python_version < \"3.8\"->catalogue<1.1.0,>=0.0.7->spacy>=2.1.0->neuralcoref==4.0) (3.4.0)\n",
            "\u001b[31mERROR: botocore 1.20.13 has requirement urllib3<1.27,>=1.25.4, but you'll have urllib3 1.24.3 which is incompatible.\u001b[0m\n",
            "Installing collected packages: jmespath, botocore, s3transfer, boto3, neuralcoref\n",
            "  Running setup.py develop for neuralcoref\n",
            "Successfully installed boto3-1.17.13 botocore-1.20.13 jmespath-0.10.0 neuralcoref s3transfer-0.3.4\n"
          ],
          "name": "stdout"
        }
      ]
    },
    {
      "cell_type": "code",
      "metadata": {
        "id": "0WI7DKsdTdip"
      },
      "source": [
        "import spacy\r\n",
        "import scispacy\r\n",
        "import neuralcoref\r\n",
        "from spacy import displacy\r\n",
        "import en_core_web_sm\r\n",
        "import en_core_sci_lg\r\n",
        "import en_ner_jnlpba_md\r\n",
        "import en_ner_bionlp13cg_md\r\n",
        "import en_ner_bc5cdr_md\r\n",
        "\r\n",
        "\r\n",
        "from scispacy.abbreviation import AbbreviationDetector\r\n",
        "from scispacy.linking import EntityLinker\r\n",
        "from collections import OrderedDict,Counter\r\n",
        "\r\n",
        "\r\n",
        "from IPython.display import clear_output\r\n",
        "clear_output() "
      ],
      "execution_count": 9,
      "outputs": []
    },
    {
      "cell_type": "code",
      "metadata": {
        "id": "sQxgglpCMd79"
      },
      "source": [
        "import pandas as pd\r\n",
        "import numpy as np\r\n",
        "import matplotlib.pyplot as plt\r\n",
        "\r\n",
        "import nltk\r\n",
        "from nltk.corpus import wordnet\r\n",
        "\r\n",
        "import regex as re\r\n",
        "from nltk.stem.porter import PorterStemmer \r\n",
        "from nltk.tokenize import word_tokenize, sent_tokenize,RegexpTokenizer\r\n",
        "nltk.download('stopwords')\r\n",
        "nltk.download('punkt')\r\n",
        "nltk.download('averaged_perceptron_tagger')\r\n",
        "\r\n",
        "import pickle\r\n",
        "import os\r\n",
        "from os.path import isfile, join\r\n",
        "import string\r\n",
        "\r\n",
        "#for vectorizing\r\n",
        "nltk.download('stopwords')\r\n",
        "from nltk.stem.porter import *\r\n",
        "from nltk.stem.snowball import SnowballStemmer\r\n",
        "stemmer = SnowballStemmer(\"english\")\r\n",
        "import nltk\r\n",
        "from nltk import bigrams\r\n",
        "import itertools \r\n",
        "\r\n",
        "from sklearn.decomposition import TruncatedSVD\r\n",
        "from sklearn.feature_extraction.text import TfidfVectorizer,CountVectorizer\r\n",
        "from sklearn.pipeline import make_pipeline\r\n",
        "from sklearn.preprocessing import Normalizer\r\n",
        "from sklearn import metrics\r\n",
        "from sklearn import feature_extraction\r\n",
        "import re\r\n",
        "import numpy as np\r\n",
        "from sklearn.cluster import KMeans, MiniBatchKMeans\r\n",
        "from sklearn.decomposition import PCA\r\n",
        "from sklearn.manifold import TSNE\r\n",
        "\r\n",
        "import seaborn as sns\r\n",
        "import matplotlib.colors as mcolors\r\n",
        "cols = [color for name, color in mcolors.TABLEAU_COLORS.items()]  # more colors: 'mcolors.XKCD_COLORS'\r\n",
        "cols.extend(['lightcoral','violet'])\r\n",
        "\r\n",
        "import networkx as nx\r\n",
        "import warnings\r\n",
        "warnings.filterwarnings(\"ignore\")\r\n",
        "\r\n",
        "sns.set(font_scale=1.5)\r\n",
        "sns.set_style(\"whitegrid\")\r\n",
        "\r\n",
        "#comment this out if you're not able to view any of the print lines\r\n",
        "from IPython.core.interactiveshell import InteractiveShell\r\n",
        "InteractiveShell.ast_node_interactivity = \"all\"\r\n",
        "%config InlineBackend.figure_format = 'retina'\r\n",
        "\r\n",
        "from IPython.display import clear_output\r\n",
        "clear_output() "
      ],
      "execution_count": 10,
      "outputs": []
    },
    {
      "cell_type": "code",
      "metadata": {
        "id": "QfMksvhKOPAy"
      },
      "source": [
        "def save_object(path, filename, obj):\r\n",
        "    print('Saving Object')\r\n",
        "    path_file = join(path, filename)    \r\n",
        "    pickle.dump(obj, open(path_file, 'wb'))\r\n",
        "    print('Save complete')\r\n",
        "\r\n",
        "def load_object(path, filename):\r\n",
        "    print('Attempting to Load Object')\r\n",
        "    path_file = join(path, filename)    \r\n",
        "    obj = pickle.load(open(path_file, \"rb\" ))\r\n",
        "    print('Load complete')\r\n",
        "    return obj\r\n",
        "\r\n",
        "def save_csv(path, filename, dataframe):\r\n",
        "    print('Saving Dataframe to CSV')\r\n",
        "    path_file = join(path, filename)    \r\n",
        "    dataframe.to_csv(path_file, index=False)\r\n",
        "\r\n",
        "def load_csv(path, filename):\r\n",
        "    print('Loading Dataframe From CSV')\r\n",
        "    path_file = join(path, filename)\r\n",
        "    dataframe = pd.read_csv(path_file)\r\n",
        "    return dataframe"
      ],
      "execution_count": 3,
      "outputs": []
    },
    {
      "cell_type": "markdown",
      "metadata": {
        "id": "P-qBZYPQObjg"
      },
      "source": [
        "## Data"
      ]
    },
    {
      "cell_type": "code",
      "metadata": {
        "id": "z6DGzcx4ORcC"
      },
      "source": [
        "df = pd.read_csv('/content/drive/MyDrive/cancer_data/cancer_gene_repair.zip', compression='zip', header=0)\r\n",
        "df = df.loc[:,~df.columns.str.match(\"Unnamed\")]\r\n",
        "topics = pd.read_csv('/content/drive/MyDrive/cancer_data/dominant_topics')"
      ],
      "execution_count": 19,
      "outputs": []
    },
    {
      "cell_type": "code",
      "metadata": {
        "colab": {
          "base_uri": "https://localhost:8080/",
          "height": 204
        },
        "id": "F1m1anivOdGh",
        "outputId": "9040236a-faa1-4697-c0ea-72ffeb09c246"
      },
      "source": [
        "df = df.fillna(' ')\r\n",
        "df['Title'] = df['Title'].astype('string')\r\n",
        "df['Abstract'] = df['Abstract'].astype('string')\r\n",
        "df['MeSH'] = df['MeSH'].astype('string')\r\n",
        "df['Text'] = df['Title'] + '. ' + df['Abstract']\r\n",
        "df.Text = df.Text.astype('string')\r\n",
        "df['Topic'] = topics['Dominant_Topic']\r\n",
        "df['Topic'] = topics['Dominant_Topic'].astype('int')\r\n",
        "df.head()"
      ],
      "execution_count": 32,
      "outputs": [
        {
          "output_type": "execute_result",
          "data": {
            "text/html": [
              "<div>\n",
              "<style scoped>\n",
              "    .dataframe tbody tr th:only-of-type {\n",
              "        vertical-align: middle;\n",
              "    }\n",
              "\n",
              "    .dataframe tbody tr th {\n",
              "        vertical-align: top;\n",
              "    }\n",
              "\n",
              "    .dataframe thead th {\n",
              "        text-align: right;\n",
              "    }\n",
              "</style>\n",
              "<table border=\"1\" class=\"dataframe\">\n",
              "  <thead>\n",
              "    <tr style=\"text-align: right;\">\n",
              "      <th></th>\n",
              "      <th>PMID</th>\n",
              "      <th>Title</th>\n",
              "      <th>Abstract</th>\n",
              "      <th>MeSH</th>\n",
              "      <th>year</th>\n",
              "      <th>Text</th>\n",
              "      <th>Topic</th>\n",
              "    </tr>\n",
              "  </thead>\n",
              "  <tbody>\n",
              "    <tr>\n",
              "      <th>0</th>\n",
              "      <td>33609766</td>\n",
              "      <td>Role of NAD(+) in regulating cellular and meta...</td>\n",
              "      <td>BACKGROUND: Nicotinamide adenine dinucleotide ...</td>\n",
              "      <td></td>\n",
              "      <td>2021</td>\n",
              "      <td>Role of NAD(+) in regulating cellular and meta...</td>\n",
              "      <td>0</td>\n",
              "    </tr>\n",
              "    <tr>\n",
              "      <th>1</th>\n",
              "      <td>33609625</td>\n",
              "      <td>What can clinical immunology learn from inborn...</td>\n",
              "      <td>The epigenome is at the interface between envi...</td>\n",
              "      <td></td>\n",
              "      <td>2021</td>\n",
              "      <td>What can clinical immunology learn from inborn...</td>\n",
              "      <td>1</td>\n",
              "    </tr>\n",
              "    <tr>\n",
              "      <th>2</th>\n",
              "      <td>33609553</td>\n",
              "      <td>Development of hMC1R Selective Small Agonists ...</td>\n",
              "      <td>Activation of the human melanocortin 1 recepto...</td>\n",
              "      <td></td>\n",
              "      <td>2020</td>\n",
              "      <td>Development of hMC1R Selective Small Agonists ...</td>\n",
              "      <td>0</td>\n",
              "    </tr>\n",
              "    <tr>\n",
              "      <th>3</th>\n",
              "      <td>33609447</td>\n",
              "      <td>Strong functional data for pathogenicity or ne...</td>\n",
              "      <td>Determination of the clinical relevance of rar...</td>\n",
              "      <td></td>\n",
              "      <td>2021</td>\n",
              "      <td>Strong functional data for pathogenicity or ne...</td>\n",
              "      <td>1</td>\n",
              "    </tr>\n",
              "    <tr>\n",
              "      <th>4</th>\n",
              "      <td>33608585</td>\n",
              "      <td>Modulating the unfolded protein response with ...</td>\n",
              "      <td>Prostate cancer (PCa) is the most common non-c...</td>\n",
              "      <td></td>\n",
              "      <td>2021</td>\n",
              "      <td>Modulating the unfolded protein response with ...</td>\n",
              "      <td>0</td>\n",
              "    </tr>\n",
              "  </tbody>\n",
              "</table>\n",
              "</div>"
            ],
            "text/plain": [
              "       PMID  ... Topic\n",
              "0  33609766  ...     0\n",
              "1  33609625  ...     1\n",
              "2  33609553  ...     0\n",
              "3  33609447  ...     1\n",
              "4  33608585  ...     0\n",
              "\n",
              "[5 rows x 7 columns]"
            ]
          },
          "metadata": {
            "tags": []
          },
          "execution_count": 32
        }
      ]
    },
    {
      "cell_type": "code",
      "metadata": {
        "colab": {
          "base_uri": "https://localhost:8080/"
        },
        "id": "ovbxn1PfVDTT",
        "outputId": "b5cb251f-422f-4e2e-cccf-4d8fbe65ef1a"
      },
      "source": [
        "df.dtypes"
      ],
      "execution_count": 21,
      "outputs": [
        {
          "output_type": "execute_result",
          "data": {
            "text/plain": [
              "PMID         int64\n",
              "Title       string\n",
              "Abstract    string\n",
              "MeSH        string\n",
              "year        object\n",
              "Text        string\n",
              "Topic        int64\n",
              "dtype: object"
            ]
          },
          "metadata": {
            "tags": []
          },
          "execution_count": 21
        }
      ]
    },
    {
      "cell_type": "markdown",
      "metadata": {
        "id": "JbmvGmxDMTC_"
      },
      "source": [
        "### Visualizations"
      ]
    },
    {
      "cell_type": "code",
      "metadata": {
        "colab": {
          "base_uri": "https://localhost:8080/",
          "height": 415
        },
        "id": "ZsHOB0g9OpG_",
        "outputId": "9329417b-be8d-48dd-b583-911ba08027fe"
      },
      "source": [
        "plt.rcParams.update({'font.size': 16})\r\n",
        "plt.figure(figsize=(8,6))\r\n",
        "df['Topic'].value_counts().plot(kind='bar')\r\n",
        "plt.xlabel(\"Topic\")\r\n",
        "plt.ylabel(\"Articles\")\r\n",
        "plt.show()"
      ],
      "execution_count": 7,
      "outputs": [
        {
          "output_type": "execute_result",
          "data": {
            "text/plain": [
              "<Figure size 576x432 with 0 Axes>"
            ]
          },
          "metadata": {
            "tags": []
          },
          "execution_count": 7
        },
        {
          "output_type": "execute_result",
          "data": {
            "text/plain": [
              "<matplotlib.axes._subplots.AxesSubplot at 0x7fd34840bba8>"
            ]
          },
          "metadata": {
            "tags": []
          },
          "execution_count": 7
        },
        {
          "output_type": "execute_result",
          "data": {
            "text/plain": [
              "Text(0.5, 0, 'Topic')"
            ]
          },
          "metadata": {
            "tags": []
          },
          "execution_count": 7
        },
        {
          "output_type": "execute_result",
          "data": {
            "text/plain": [
              "Text(0, 0.5, 'Articles')"
            ]
          },
          "metadata": {
            "tags": []
          },
          "execution_count": 7
        },
        {
          "output_type": "display_data",
          "data": {
            "image/png": "[encoded data removed]",
            "text/plain": [
              "<Figure size 576x432 with 1 Axes>"
            ]
          },
          "metadata": {
            "tags": [],
            "image/png": {
              "width": 543,
              "height": 381
            }
          }
        }
      ]
    },
    {
      "cell_type": "markdown",
      "metadata": {
        "id": "dXo1yG5FV0Ea"
      },
      "source": [
        "we are specifically intrested in topic 1."
      ]
    },
    {
      "cell_type": "code",
      "metadata": {
        "id": "QXWOUxPtV9CR"
      },
      "source": [
        "data = df[df['Topic']==1]\r\n",
        "print(data.shape)\r\n",
        "data.sample(13)"
      ],
      "execution_count": null,
      "outputs": []
    },
    {
      "cell_type": "markdown",
      "metadata": {
        "id": "tQY9pY8zB1KU"
      },
      "source": [
        "# Information Extraction"
      ]
    },
    {
      "cell_type": "markdown",
      "metadata": {
        "id": "N9ndIu0BYNyT"
      },
      "source": [
        "### Step 1: Coreference resolution\r\n",
        "As mentioned, the coreference resolution tries to find all expressions in the text that refer to a specific entity. In my implementation, I have used the [Neuralcoref model from Huggingface](https://github.com/huggingface/neuralcoref) that runs on top of the SpaCy framework. I have used the default parameters of the Neuralcoref model. One thing I did notice along the way is that the Neuralcoref model doesn’t work well with location pronouns."
      ]
    },
    {
      "cell_type": "code",
      "metadata": {
        "id": "KjIEWKbrxXVk"
      },
      "source": [
        "# basic model \r\n",
        "nlp = en_core_sci_lg.load()\r\n",
        "neuralcoref.add_to_pipe(nlp)\r\n",
        "doc = nlp(df['Text'][1])\r\n",
        "displacy_image = displacy.render(doc, jupyter = True, style = 'ent')\r\n",
        "img = displacy.render(next(doc.sents), style='dep', jupyter=True)"
      ],
      "execution_count": null,
      "outputs": []
    },
    {
      "cell_type": "code",
      "metadata": {
        "id": "AJvX-Z39BSt5"
      },
      "source": [
        "def coref_resolution(text, model):\r\n",
        "    \"\"\"Function that executes coreference resolution on a given text\"\"\"\r\n",
        "    doc = model(text)\r\n",
        "    # fetches tokens with whitespaces from spacy document\r\n",
        "    tok_list = list(token.text_with_ws for token in doc)\r\n",
        "    for cluster in doc._.coref_clusters:\r\n",
        "        # get tokens from representative cluster name\r\n",
        "        cluster_main_words = set(cluster.main.text.split(' '))\r\n",
        "        for coref in cluster:\r\n",
        "            if coref != cluster.main:  # if coreference element is not the representative element of that cluster\r\n",
        "                if coref.text != cluster.main.text and bool(set(coref.text.split(' ')).intersection(cluster_main_words)) == False:\r\n",
        "                    # if coreference element text and representative element text are not equal and none of the coreference element words are in representative element. This was done to handle nested coreference scenarios\r\n",
        "                    tok_list[coref.start] = cluster.main.text + \\\r\n",
        "                        doc[coref.end-1].whitespace_\r\n",
        "                    for i in range(coref.start+1, coref.end):\r\n",
        "                        tok_list[i] = \"\"\r\n",
        "\r\n",
        "    return \"\".join(tok_list)"
      ],
      "execution_count": 19,
      "outputs": []
    },
    {
      "cell_type": "code",
      "metadata": {
        "id": "WAqqnm6jCUFx"
      },
      "source": [
        "coref_resolution(df['Abstract'][1],nlp)"
      ],
      "execution_count": null,
      "outputs": []
    },
    {
      "cell_type": "code",
      "metadata": {
        "id": "AwnCzta8D68m"
      },
      "source": [
        "df['Abstract'][1]"
      ],
      "execution_count": null,
      "outputs": []
    },
    {
      "cell_type": "markdown",
      "metadata": {
        "id": "qSCgGy7tEJOj"
      },
      "source": [
        "# Step 2: Named Entity Linking"
      ]
    },
    {
      "cell_type": "code",
      "metadata": {
        "id": "veg6fg6OyH1p"
      },
      "source": [
        "nlp_bi = en_ner_bionlp13cg_md.load()\r\n",
        "nlp_jn = en_ner_jnlpba_md.load()\r\n",
        "nlp_bc5 = en_ner_bc5cdr_md.load()"
      ],
      "execution_count": 14,
      "outputs": []
    },
    {
      "cell_type": "code",
      "metadata": {
        "id": "extlL9wfhIG9"
      },
      "source": [
        "data = nltk.tokenize.sent_tokenize(' '.join(df['Abstract']))"
      ],
      "execution_count": 41,
      "outputs": []
    },
    {
      "cell_type": "code",
      "metadata": {
        "colab": {
          "base_uri": "https://localhost:8080/"
        },
        "id": "aaZ9TAMChuKt",
        "outputId": "458200a6-805c-45af-fb36-f05be3f731fd"
      },
      "source": [
        "data[10:20]"
      ],
      "execution_count": 51,
      "outputs": [
        {
          "output_type": "execute_result",
          "data": {
            "text/plain": [
              "['Epigenetic modifications play a crucial role in establishing and maintaining cell identity and are especially crucial for neurology, musculoskeletal integrity, and the function of the immune system.',\n",
              " 'Mutations in genes encoding for the components of the epigenetic machinery lead to the development of distinct disorders, especially involving the central nervous system and host defense.',\n",
              " 'In this review, we focus on the role of epigenetic modifications for the function of the immune system.',\n",
              " 'By studying the immune phenotype of patients with monogenic mutations in components of the epigenetic machinery (Inborn Errors of Epigenetic regulators, IEE), we demonstrate the importance of DNA methylation, histone modifications, chromatin remodeling, non-coding RNAs, and mRNA processing for immunity.',\n",
              " 'Moreover, we give a short overview on therapeutic strategies targeting the epigenome.',\n",
              " 'Activation of the human melanocortin 1 receptor (hMC1R) expressed on melanocytes by alpha-melanocortin (alpha-MSH) plays a central role in regulating human pigmentation, and reducing the genotoxicity of ultraviolet radiation (UV) by activating DNA repair and antioxidant defenses.',\n",
              " 'Towards development of a hMC1R-targeted photoprotection strategy we designed tetra- and tripeptide agonists with modifications that provide the necessary lipophilicity and hMC1R selectivity to be effective drugs.',\n",
              " 'These peptides proved to be superior to most existing analogs of the tridecapeptide alpha-MSH due to their small size and high hMC1R selectivity.',\n",
              " 'Testing on primary cultures of human melanocytes showed that these peptides are highly potent with prolonged stimulation of melanogenesis, enhance repair of UV-induced DNA photoproducts and reduce apoptosis of human melanocytes.',\n",
              " 'One of the tripeptides, designated as LK-514 (5), with molecular weight 660, has unprecedented (>100,000) hMC1R selectivity, versus other melanocortin receptors, hMC3R, hMC4R, and hMC5R, and increases pigmentation (sunless tanning) in a cultured 3D skin model.']"
            ]
          },
          "metadata": {
            "tags": []
          },
          "execution_count": 51
        }
      ]
    },
    {
      "cell_type": "code",
      "metadata": {
        "id": "76axoncUPq3Z"
      },
      "source": [
        "def entities_extract(model,df):\r\n",
        "  \"\"\" A function that returns a tuple of displacy image of named or unnamed word entities and\r\n",
        "      a set of unique entities recognized based on scispacy model in use\r\n",
        "      Args: \r\n",
        "      model: A pretrained model from spaCy or ScispaCy document: daframe containing data\"\"\"\r\n",
        "  \r\n",
        "  ENTITY_TYPES = [\"GENE_OR_GENE_PRODUCT\", \"CANCER\"]\r\n",
        "  #neuralcoref.add_to_pipe(model)\r\n",
        "  table= {'Sentence':[], 'Entity':[], 'Class':[]}\r\n",
        "  for text in df:\r\n",
        "    doc = model(text)\r\n",
        "    for X in doc.ents:\r\n",
        "      if X.label_ in ENTITY_TYPES:\r\n",
        "        if X.text != 'cancer' and X.text != 'DNA'and X.text != 'RNA' and X.text != 'Cancer':\r\n",
        "          table['Sentence'].append(text)\r\n",
        "          table['Entity'].append(X.text)\r\n",
        "          table['Class'].append(X.label_)\r\n",
        "\r\n",
        "  \r\n",
        "  return pd.DataFrame(table)"
      ],
      "execution_count": 52,
      "outputs": []
    },
    {
      "cell_type": "code",
      "metadata": {
        "id": "PqtDYb9Fyhtu"
      },
      "source": [
        "d = entities_extract(model=nlp_bi,df=data[20:30]) \r\n",
        "d = d.drop_duplicates()"
      ],
      "execution_count": 55,
      "outputs": []
    },
    {
      "cell_type": "code",
      "metadata": {
        "colab": {
          "base_uri": "https://localhost:8080/",
          "height": 514
        },
        "id": "9hec2Pvhjvr4",
        "outputId": "e8e90f5a-8ffa-4970-b172-3d6ba9f5fbed"
      },
      "source": [
        "d"
      ],
      "execution_count": 58,
      "outputs": [
        {
          "output_type": "execute_result",
          "data": {
            "text/html": [
              "<div>\n",
              "<style scoped>\n",
              "    .dataframe tbody tr th:only-of-type {\n",
              "        vertical-align: middle;\n",
              "    }\n",
              "\n",
              "    .dataframe tbody tr th {\n",
              "        vertical-align: top;\n",
              "    }\n",
              "\n",
              "    .dataframe thead th {\n",
              "        text-align: right;\n",
              "    }\n",
              "</style>\n",
              "<table border=\"1\" class=\"dataframe\">\n",
              "  <thead>\n",
              "    <tr style=\"text-align: right;\">\n",
              "      <th></th>\n",
              "      <th>Sentence</th>\n",
              "      <th>Entity</th>\n",
              "      <th>Class</th>\n",
              "    </tr>\n",
              "  </thead>\n",
              "  <tbody>\n",
              "    <tr>\n",
              "      <th>0</th>\n",
              "      <td>These analogs should be efficacious for preven...</td>\n",
              "      <td>skin cancer</td>\n",
              "      <td>CANCER</td>\n",
              "    </tr>\n",
              "    <tr>\n",
              "      <th>1</th>\n",
              "      <td>These analogs should be efficacious for preven...</td>\n",
              "      <td>melanoma</td>\n",
              "      <td>CANCER</td>\n",
              "    </tr>\n",
              "    <tr>\n",
              "      <th>2</th>\n",
              "      <td>Determination of the clinical relevance of rar...</td>\n",
              "      <td>VUSs</td>\n",
              "      <td>GENE_OR_GENE_PRODUCT</td>\n",
              "    </tr>\n",
              "    <tr>\n",
              "      <th>3</th>\n",
              "      <td>Determination of the clinical relevance of rar...</td>\n",
              "      <td>BRCA2 cancer</td>\n",
              "      <td>GENE_OR_GENE_PRODUCT</td>\n",
              "    </tr>\n",
              "    <tr>\n",
              "      <th>4</th>\n",
              "      <td>However, laboratory-based functional data deri...</td>\n",
              "      <td>VUSs</td>\n",
              "      <td>GENE_OR_GENE_PRODUCT</td>\n",
              "    </tr>\n",
              "    <tr>\n",
              "      <th>5</th>\n",
              "      <td>We evaluated 252 missense VUSs from the BRCA2 ...</td>\n",
              "      <td>VUSs</td>\n",
              "      <td>GENE_OR_GENE_PRODUCT</td>\n",
              "    </tr>\n",
              "    <tr>\n",
              "      <th>6</th>\n",
              "      <td>We evaluated 252 missense VUSs from the BRCA2 ...</td>\n",
              "      <td>BRCA2</td>\n",
              "      <td>GENE_OR_GENE_PRODUCT</td>\n",
              "    </tr>\n",
              "    <tr>\n",
              "      <th>7</th>\n",
              "      <td>Of the 186 missense variants observed by the t...</td>\n",
              "      <td>VUSs</td>\n",
              "      <td>GENE_OR_GENE_PRODUCT</td>\n",
              "    </tr>\n",
              "    <tr>\n",
              "      <th>8</th>\n",
              "      <td>However, after applying protein functional dat...</td>\n",
              "      <td>VUSs</td>\n",
              "      <td>GENE_OR_GENE_PRODUCT</td>\n",
              "    </tr>\n",
              "    <tr>\n",
              "      <th>9</th>\n",
              "      <td>These results indicate that validated function...</td>\n",
              "      <td>VUS</td>\n",
              "      <td>CANCER</td>\n",
              "    </tr>\n",
              "    <tr>\n",
              "      <th>10</th>\n",
              "      <td>These results indicate that validated function...</td>\n",
              "      <td>BRCA2</td>\n",
              "      <td>GENE_OR_GENE_PRODUCT</td>\n",
              "    </tr>\n",
              "    <tr>\n",
              "      <th>11</th>\n",
              "      <td>Prostate cancer (PCa) is the most common non-c...</td>\n",
              "      <td>Prostate cancer</td>\n",
              "      <td>CANCER</td>\n",
              "    </tr>\n",
              "    <tr>\n",
              "      <th>12</th>\n",
              "      <td>Prostate cancer (PCa) is the most common non-c...</td>\n",
              "      <td>PCa</td>\n",
              "      <td>CANCER</td>\n",
              "    </tr>\n",
              "    <tr>\n",
              "      <th>13</th>\n",
              "      <td>Prostate cancer (PCa) is the most common non-c...</td>\n",
              "      <td>non-cutaneous cancer</td>\n",
              "      <td>CANCER</td>\n",
              "    </tr>\n",
              "    <tr>\n",
              "      <th>14</th>\n",
              "      <td>The unfolded protein response (UPR) can be cyt...</td>\n",
              "      <td>UPR</td>\n",
              "      <td>GENE_OR_GENE_PRODUCT</td>\n",
              "    </tr>\n",
              "  </tbody>\n",
              "</table>\n",
              "</div>"
            ],
            "text/plain": [
              "                                             Sentence  ...                 Class\n",
              "0   These analogs should be efficacious for preven...  ...                CANCER\n",
              "1   These analogs should be efficacious for preven...  ...                CANCER\n",
              "2   Determination of the clinical relevance of rar...  ...  GENE_OR_GENE_PRODUCT\n",
              "3   Determination of the clinical relevance of rar...  ...  GENE_OR_GENE_PRODUCT\n",
              "4   However, laboratory-based functional data deri...  ...  GENE_OR_GENE_PRODUCT\n",
              "5   We evaluated 252 missense VUSs from the BRCA2 ...  ...  GENE_OR_GENE_PRODUCT\n",
              "6   We evaluated 252 missense VUSs from the BRCA2 ...  ...  GENE_OR_GENE_PRODUCT\n",
              "7   Of the 186 missense variants observed by the t...  ...  GENE_OR_GENE_PRODUCT\n",
              "8   However, after applying protein functional dat...  ...  GENE_OR_GENE_PRODUCT\n",
              "9   These results indicate that validated function...  ...                CANCER\n",
              "10  These results indicate that validated function...  ...  GENE_OR_GENE_PRODUCT\n",
              "11  Prostate cancer (PCa) is the most common non-c...  ...                CANCER\n",
              "12  Prostate cancer (PCa) is the most common non-c...  ...                CANCER\n",
              "13  Prostate cancer (PCa) is the most common non-c...  ...                CANCER\n",
              "14  The unfolded protein response (UPR) can be cyt...  ...  GENE_OR_GENE_PRODUCT\n",
              "\n",
              "[15 rows x 3 columns]"
            ]
          },
          "metadata": {
            "tags": []
          },
          "execution_count": 58
        }
      ]
    },
    {
      "cell_type": "code",
      "metadata": {
        "id": "GVI0_G4NrAHe"
      },
      "source": [
        "df_bc5 = pd.concat([df_bc5,df_bc52], axis=0)"
      ],
      "execution_count": 58,
      "outputs": []
    },
    {
      "cell_type": "code",
      "metadata": {
        "colab": {
          "base_uri": "https://localhost:8080/"
        },
        "id": "E7ZgkUtzZH_K",
        "outputId": "03cc6e72-5e4e-44ed-b733-05b25655e654"
      },
      "source": [
        "df_bc5.to_csv('df_bc5.csv')\r\n",
        "save_csv('/content/drive/MyDrive/cancer_data','df_bc5.csv',df_bc5)"
      ],
      "execution_count": 47,
      "outputs": [
        {
          "output_type": "stream",
          "text": [
            "Saving Dataframe to CSV\n"
          ],
          "name": "stdout"
        }
      ]
    },
    {
      "cell_type": "code",
      "metadata": {
        "colab": {
          "base_uri": "https://localhost:8080/",
          "height": 686
        },
        "id": "12MwfuPD1piU",
        "outputId": "dbc1a2cc-13e6-4ce0-fd46-6ee0250013e3"
      },
      "source": [
        "print(df_ents.shape)\r\n",
        "df_ents = df_ents.drop_duplicates()\r\n",
        "df_ents.head(20)"
      ],
      "execution_count": 49,
      "outputs": [
        {
          "output_type": "stream",
          "text": [
            "(160528, 3)\n"
          ],
          "name": "stdout"
        },
        {
          "output_type": "execute_result",
          "data": {
            "text/html": [
              "<div>\n",
              "<style scoped>\n",
              "    .dataframe tbody tr th:only-of-type {\n",
              "        vertical-align: middle;\n",
              "    }\n",
              "\n",
              "    .dataframe tbody tr th {\n",
              "        vertical-align: top;\n",
              "    }\n",
              "\n",
              "    .dataframe thead th {\n",
              "        text-align: right;\n",
              "    }\n",
              "</style>\n",
              "<table border=\"1\" class=\"dataframe\">\n",
              "  <thead>\n",
              "    <tr style=\"text-align: right;\">\n",
              "      <th></th>\n",
              "      <th>PMID</th>\n",
              "      <th>Entity</th>\n",
              "      <th>Class</th>\n",
              "    </tr>\n",
              "  </thead>\n",
              "  <tbody>\n",
              "    <tr>\n",
              "      <th>0</th>\n",
              "      <td>33609766</td>\n",
              "      <td>NAD(+)/NADH</td>\n",
              "      <td>GENE_OR_GENE_PRODUCT</td>\n",
              "    </tr>\n",
              "    <tr>\n",
              "      <th>2</th>\n",
              "      <td>33609625</td>\n",
              "      <td>histone</td>\n",
              "      <td>GENE_OR_GENE_PRODUCT</td>\n",
              "    </tr>\n",
              "    <tr>\n",
              "      <th>3</th>\n",
              "      <td>33609553</td>\n",
              "      <td>hMC1R</td>\n",
              "      <td>GENE_OR_GENE_PRODUCT</td>\n",
              "    </tr>\n",
              "    <tr>\n",
              "      <th>5</th>\n",
              "      <td>33609553</td>\n",
              "      <td>alpha-melanocortin</td>\n",
              "      <td>GENE_OR_GENE_PRODUCT</td>\n",
              "    </tr>\n",
              "    <tr>\n",
              "      <th>6</th>\n",
              "      <td>33609553</td>\n",
              "      <td>alpha-MSH</td>\n",
              "      <td>GENE_OR_GENE_PRODUCT</td>\n",
              "    </tr>\n",
              "    <tr>\n",
              "      <th>10</th>\n",
              "      <td>33609553</td>\n",
              "      <td>LK-514 (5)</td>\n",
              "      <td>GENE_OR_GENE_PRODUCT</td>\n",
              "    </tr>\n",
              "    <tr>\n",
              "      <th>11</th>\n",
              "      <td>33609553</td>\n",
              "      <td>melanocortin receptors</td>\n",
              "      <td>GENE_OR_GENE_PRODUCT</td>\n",
              "    </tr>\n",
              "    <tr>\n",
              "      <th>12</th>\n",
              "      <td>33609553</td>\n",
              "      <td>hMC3R</td>\n",
              "      <td>GENE_OR_GENE_PRODUCT</td>\n",
              "    </tr>\n",
              "    <tr>\n",
              "      <th>13</th>\n",
              "      <td>33609553</td>\n",
              "      <td>hMC4R</td>\n",
              "      <td>GENE_OR_GENE_PRODUCT</td>\n",
              "    </tr>\n",
              "    <tr>\n",
              "      <th>14</th>\n",
              "      <td>33609553</td>\n",
              "      <td>hMC5R</td>\n",
              "      <td>GENE_OR_GENE_PRODUCT</td>\n",
              "    </tr>\n",
              "    <tr>\n",
              "      <th>15</th>\n",
              "      <td>33609553</td>\n",
              "      <td>skin cancer</td>\n",
              "      <td>CANCER</td>\n",
              "    </tr>\n",
              "    <tr>\n",
              "      <th>16</th>\n",
              "      <td>33609553</td>\n",
              "      <td>melanoma</td>\n",
              "      <td>CANCER</td>\n",
              "    </tr>\n",
              "    <tr>\n",
              "      <th>17</th>\n",
              "      <td>33609447</td>\n",
              "      <td>BRCA2</td>\n",
              "      <td>GENE_OR_GENE_PRODUCT</td>\n",
              "    </tr>\n",
              "    <tr>\n",
              "      <th>18</th>\n",
              "      <td>33609447</td>\n",
              "      <td>VUSs</td>\n",
              "      <td>GENE_OR_GENE_PRODUCT</td>\n",
              "    </tr>\n",
              "    <tr>\n",
              "      <th>19</th>\n",
              "      <td>33609447</td>\n",
              "      <td>BRCA2 cancer</td>\n",
              "      <td>GENE_OR_GENE_PRODUCT</td>\n",
              "    </tr>\n",
              "    <tr>\n",
              "      <th>25</th>\n",
              "      <td>33609447</td>\n",
              "      <td>VUS</td>\n",
              "      <td>CANCER</td>\n",
              "    </tr>\n",
              "    <tr>\n",
              "      <th>27</th>\n",
              "      <td>33608585</td>\n",
              "      <td>Prostate cancer</td>\n",
              "      <td>CANCER</td>\n",
              "    </tr>\n",
              "    <tr>\n",
              "      <th>28</th>\n",
              "      <td>33608585</td>\n",
              "      <td>PCa</td>\n",
              "      <td>CANCER</td>\n",
              "    </tr>\n",
              "    <tr>\n",
              "      <th>29</th>\n",
              "      <td>33608585</td>\n",
              "      <td>non-cutaneous cancer</td>\n",
              "      <td>CANCER</td>\n",
              "    </tr>\n",
              "    <tr>\n",
              "      <th>30</th>\n",
              "      <td>33608585</td>\n",
              "      <td>UPR</td>\n",
              "      <td>GENE_OR_GENE_PRODUCT</td>\n",
              "    </tr>\n",
              "  </tbody>\n",
              "</table>\n",
              "</div>"
            ],
            "text/plain": [
              "        PMID                  Entity                 Class\n",
              "0   33609766             NAD(+)/NADH  GENE_OR_GENE_PRODUCT\n",
              "2   33609625                 histone  GENE_OR_GENE_PRODUCT\n",
              "3   33609553                   hMC1R  GENE_OR_GENE_PRODUCT\n",
              "5   33609553      alpha-melanocortin  GENE_OR_GENE_PRODUCT\n",
              "6   33609553               alpha-MSH  GENE_OR_GENE_PRODUCT\n",
              "10  33609553              LK-514 (5)  GENE_OR_GENE_PRODUCT\n",
              "11  33609553  melanocortin receptors  GENE_OR_GENE_PRODUCT\n",
              "12  33609553                   hMC3R  GENE_OR_GENE_PRODUCT\n",
              "13  33609553                   hMC4R  GENE_OR_GENE_PRODUCT\n",
              "14  33609553                   hMC5R  GENE_OR_GENE_PRODUCT\n",
              "15  33609553             skin cancer                CANCER\n",
              "16  33609553                melanoma                CANCER\n",
              "17  33609447                   BRCA2  GENE_OR_GENE_PRODUCT\n",
              "18  33609447                    VUSs  GENE_OR_GENE_PRODUCT\n",
              "19  33609447            BRCA2 cancer  GENE_OR_GENE_PRODUCT\n",
              "25  33609447                     VUS                CANCER\n",
              "27  33608585         Prostate cancer                CANCER\n",
              "28  33608585                     PCa                CANCER\n",
              "29  33608585    non-cutaneous cancer                CANCER\n",
              "30  33608585                     UPR  GENE_OR_GENE_PRODUCT"
            ]
          },
          "metadata": {
            "tags": []
          },
          "execution_count": 49
        }
      ]
    },
    {
      "cell_type": "markdown",
      "metadata": {
        "id": "UUKGq_MXDzMm"
      },
      "source": [
        "# Creating Pattern Matric using TF-IDF vectorizer"
      ]
    },
    {
      "cell_type": "code",
      "metadata": {
        "id": "Vkn6RvFKPaXw"
      },
      "source": [
        "nlp = en_core_sci_lg.load()\r\n",
        "# nlp.Defaults.stop_words |= {'type','wild','function','observed','results','different','identified','from','furthermore','process','model','effect','known','suggest','damage','human',\r\n",
        "#                             'rat','rats','suggested','conclusion','determined','indicate','Moreover','system', 'form', 'treatment','disease','although','conclusion','including',\r\n",
        "#                             'exposure','repair','injury','cell','functions','compared','interaction','level','demonstrated','studies','substrate','interaction','shown','contrast',\r\n",
        "#                             'presence','important', 'response','cells', 'effect','risk','induction', 'increase', 'also', 'breaks','treated','showed','used','comet', 'affect', 'may', \r\n",
        "#                             'two','study','gene','end','ends','let','double','single','strands','stress','cross','pathway','role','demonstrate','present','result','use','occur','appear',\r\n",
        "#                             'joining','affect','cause','induce','defect','induced','lead','complex','resistance','calls','ber','mutagenic','frquency', 'analyzed','include','similar','studied',\r\n",
        "#                             'method','addition','suggesting','background','gene','expression','investigated','promote','types','dna','proteins','protein', 'ner','genomic','involved','high','low',\r\n",
        "#                             'agents','using','strands','cycle','drug','investigate','increased','that','induce','structure','bindings','binding','molecular','mouse','mice','activity','sequences',\r\n",
        "#                             'factors','processes','levels','level','patient','patients','dose','recombination','yeast','strand','mutants','mutations','replications','homologous','genetic',\r\n",
        "#                             'genes','associative','lung', 'therapy','inhibitors','specific','light','molecular','binding','sequence','lines','cancer','poly','inhibitation','activation','nuclear',\r\n",
        "#                             'regulation','tumor','mismatch','excision','base','found','containing','related','coli','cellular','growth','irridation','tumors','mutations','transription','resistance',\r\n",
        "#                             'site','adducts','dose','enzyme','associated','analysis','species','tissue', 'promoter','time','pathways','factor','domain','clinical','cancers','liver','assay','irradiated',\r\n",
        "#                             'irradiation','nucleotide','one','damage','increase','resist','mechanism','association','group','groups','aging','exposed', 'show','rna', 'radiation','strains','chromosome',\r\n",
        "#                             'break','sequence','mutant','however','frequency','synthesis','mutagenic','mutagenesis', 'trnscriptor','replication','dependent','mutation','genome','new','beta',\r\n",
        "#                             'chromosme','dependent','syndrome','radiation','effects','inhibition','genomic','chromosomal','histone','involved','process','factor','factors','effect','found',\r\n",
        "#                             'therapy','gamma','mediated','instability','pathways','deficient','genotype','significant','mechanisms','required','nhej', 'radiation','strains','chromosome',\r\n",
        "#                             'sequence','mutant','however','frequency','synthesis','mutagenic','mutagenesis','trnscriptor','replication','dependent','mutation','genome','chromosme','dependent',\r\n",
        "#                             'syndrome','radiation','effects','inhibition''stranded','genome','non','target','formation','checkpoint','age','animal','decrease','day','change','product','strain',\r\n",
        "#                             'development','approach','decrease','editing','repair','replication','link','involve','disorder','immune','study','rna','dna','mrna','patient','target'}"
      ],
      "execution_count": 12,
      "outputs": []
    },
    {
      "cell_type": "code",
      "metadata": {
        "id": "1MCBQFwTE2sa"
      },
      "source": [
        "def preprocess(text):\r\n",
        "    # TODO: Replace the next line with your own code.\r\n",
        "    remove = string.punctuation\r\n",
        "    remove = remove.replace(\"-\", \"\") # don't remove hyphens\r\n",
        "    pattern = r\"[{}]\".format(remove) # create the pattern\r\n",
        "    text = re.sub(pattern, \"\", text) \r\n",
        "    doc = nlp(text)\r\n",
        "    token_words = []\r\n",
        "    for token in doc:\r\n",
        "      if not token.is_stop:\r\n",
        "        token_words.append(token.lemma_)\r\n",
        "    return token_words"
      ],
      "execution_count": 13,
      "outputs": []
    },
    {
      "cell_type": "code",
      "metadata": {
        "id": "n7LCIkkxF7SR"
      },
      "source": [
        "vectorizer = TfidfVectorizer(tokenizer = preprocess,max_df=0.95,min_df=2)\r\n",
        "X = vectorizer.fit_transform(df['Text'][0:20000])\r\n",
        "vocabulary = vectorizer.vocabulary_\r\n",
        "feature_names = vectorizer.get_feature_names()"
      ],
      "execution_count": 60,
      "outputs": []
    },
    {
      "cell_type": "code",
      "metadata": {
        "colab": {
          "base_uri": "https://localhost:8080/"
        },
        "id": "aokuELDqH_-d",
        "outputId": "54c1eb85-1ee4-48cc-e2a7-762569bfaa07"
      },
      "source": [
        "X.shape"
      ],
      "execution_count": 59,
      "outputs": [
        {
          "output_type": "execute_result",
          "data": {
            "text/plain": [
              "(47941, 55756)"
            ]
          },
          "metadata": {
            "tags": []
          },
          "execution_count": 59
        }
      ]
    },
    {
      "cell_type": "markdown",
      "metadata": {
        "id": "QqrbLF8QxLME"
      },
      "source": [
        "# Most Similar Words and Ontologies"
      ]
    },
    {
      "cell_type": "code",
      "metadata": {
        "id": "S_9XmWEXqKPy"
      },
      "source": [
        "def most_similar(query, n,nlp=nlp_bc5):\r\n",
        "  query = np.array([query])\r\n",
        "  most_similar_keys = nlp.vocab.vectors.most_similar(query, n=n)[0].flatten()\r\n",
        "  most_similar_words = []\r\n",
        "  for key in most_similar_keys:\r\n",
        "      most_similar_words.append(nlp.vocab[key])\r\n",
        "  return most_similar_words"
      ],
      "execution_count": 115,
      "outputs": []
    },
    {
      "cell_type": "code",
      "metadata": {
        "id": "JlqQ2jc4qQC6"
      },
      "source": [
        "def plot_most_similar(lst,n,nlp):\r\n",
        "  sim_words = np.array([most_similar(nlp.vocab[w].vector,n=n) for w in lst])\r\n",
        "  # find tsne coords for 2 dimensions\r\n",
        "  vectors = np.array([item.vector for item in sim_words.flatten()])\r\n",
        "  tsne = TSNE(n_components=2, random_state=0)\r\n",
        "  np.set_printoptions(suppress=True)\r\n",
        "  Y = tsne.fit_transform(vectors)\r\n",
        "  labels = np.array([item.text for item in sim_words.flatten()])\r\n",
        "  x_coords = Y[:, 0]\r\n",
        "  y_coords = Y[:, 1]\r\n",
        "  # display scatter plot\r\n",
        "  plt.scatter(x_coords, y_coords)\r\n",
        "  for label, x, y in zip(labels, x_coords, y_coords):\r\n",
        "    plt.annotate(label, xy=(x, y), xytext=(0, 0), textcoords='offset points')\r\n",
        "  return plt.show()"
      ],
      "execution_count": 116,
      "outputs": []
    },
    {
      "cell_type": "code",
      "metadata": {
        "colab": {
          "base_uri": "https://localhost:8080/"
        },
        "id": "2A61QKcvqTPW",
        "outputId": "0a240eed-362b-4021-a08a-dd831c88704f"
      },
      "source": [
        "#plot_most_similar(nlp.vocab[w] for w in ['cheese', 'goat', 'sweden', 'university', 'computer'])\r\n",
        "plt.rcParams[\"figure.figsize\"] = (16,10) \r\n",
        "plt.rcParams.update({'font.size': 16})\r\n",
        "plot_most_similar(lst = ['melanoma, carcinoma'], n=15,nlp = nlp_bc5)"
      ],
      "execution_count": 117,
      "outputs": [
        {
          "output_type": "display_data",
          "data": {
            "image/png": "[encoded data removed]",
            "text/plain": [
              "<Figure size 1152x720 with 1 Axes>"
            ]
          },
          "metadata": {
            "tags": [],
            "image/png": {
              "width": 1071,
              "height": 584
            }
          }
        }
      ]
    },
    {
      "cell_type": "code",
      "metadata": {
        "id": "h1w2-Q-ot187"
      },
      "source": [
        "\r\n",
        "# TODO: Enter code here to solve the analogy problem\r\n",
        "from sklearn.metrics.pairwise import cosine_similarity\r\n",
        "\r\n",
        "def fourth(a,b,c):\r\n",
        "  nlp = nlp_bc5\r\n",
        "  d = np.array((nlp.vocab[a].vector - nlp.vocab[b].vector)+ nlp.vocab[c].vector)\r\n",
        "  ids = [x for x in nlp.vocab.vectors.keys()]\r\n",
        "  vectors = np.array([nlp.vocab.vectors[x] for x in ids])\r\n",
        "  # *** Find the word with greatest cosine similarity ***\r\n",
        "  cos_sim = cosine_similarity(d.reshape(1,200), vectors)\r\n",
        "  index = cos_sim.argmax()\r\n",
        "  word_id = ids[index]\r\n",
        "  output_word = (nlp.vocab[word_id].text)\r\n",
        "  return output_word"
      ],
      "execution_count": 96,
      "outputs": []
    },
    {
      "cell_type": "code",
      "metadata": {
        "colab": {
          "base_uri": "https://localhost:8080/"
        },
        "id": "yPBmCozTt5Us",
        "outputId": "55796304-31de-417a-93c6-a5395214e981"
      },
      "source": [
        "print(fourth('cancer', 'carcinoma','hMC1R\t'))\r\n",
        "print(fourth('cancer', 'PCa','CtIP'))\r\n",
        "# print(fourth('better','good','bad'))\r\n",
        "# print(fourth('walked','walk','take'))\r\n",
        "# print(fourth('bigger','big','small'))\r\n"
      ],
      "execution_count": 105,
      "outputs": [
        {
          "output_type": "stream",
          "text": [
            "cardiovascular\n",
            "53BP1\n"
          ],
          "name": "stdout"
        }
      ]
    },
    {
      "cell_type": "markdown",
      "metadata": {
        "id": "lmpLyV0wt0EF"
      },
      "source": [
        "## Analogies"
      ]
    },
    {
      "cell_type": "markdown",
      "metadata": {
        "id": "DDc5mozw7tvi"
      },
      "source": [
        "# Unsupervised approach for interaction words identification using pattern clustering"
      ]
    },
    {
      "cell_type": "code",
      "metadata": {
        "id": "n8SlMXJcN656"
      },
      "source": [
        "nlp = en_core_sci_lg.load()"
      ],
      "execution_count": 11,
      "outputs": []
    },
    {
      "cell_type": "code",
      "metadata": {
        "id": "Ft9NeIV5NXyh"
      },
      "source": [
        "def preprocess(text):\r\n",
        "  text = re.sub(r'[^\\w\\s]','',text) # remove punctuations\r\n",
        "  doc = nlp(text)\r\n",
        "  token_words = []\r\n",
        "  for token in doc:\r\n",
        "    if not token.is_stop:\r\n",
        "      token_words.append(token.lemma_)\r\n",
        "  token_words = [x for x in token_words if len(x) >= 2]\r\n",
        "  return token_words"
      ],
      "execution_count": 34,
      "outputs": []
    },
    {
      "cell_type": "code",
      "metadata": {
        "id": "x0pgaIULOooy"
      },
      "source": [
        "preprocess(data['Text'][1])"
      ],
      "execution_count": null,
      "outputs": []
    },
    {
      "cell_type": "markdown",
      "metadata": {
        "id": "kDNRgalyHaJ5"
      },
      "source": [
        "### TF-IDF vectorizer"
      ]
    },
    {
      "cell_type": "code",
      "metadata": {
        "id": "8i_mHQQHHddX"
      },
      "source": [
        "vectorizer = CountVectorizer(tokenizer=preprocess,max_df=0.95)\r\n",
        "X = vectorizer.fit_transform(data['Text'])\r\n",
        "vocabulary = vectorizer.vocabulary_\r\n",
        "feature_names = vectorizer.get_feature_names()\r\n",
        "\r\n",
        "# svd = TruncatedSVD(100)\r\n",
        "# normalizer = Normalizer(copy=False)\r\n",
        "# lsa = make_pipeline(svd, normalizer)\r\n",
        "# x = lsa.fit_transform(X)"
      ],
      "execution_count": 54,
      "outputs": []
    },
    {
      "cell_type": "code",
      "metadata": {
        "colab": {
          "base_uri": "https://localhost:8080/"
        },
        "id": "_VbFKlkZU-N3",
        "outputId": "516c6ca9-83e3-47c3-ed00-0854f5abd8a5"
      },
      "source": [
        "print(len(feature_names))\r\n",
        "X.shape"
      ],
      "execution_count": 53,
      "outputs": [
        {
          "output_type": "stream",
          "text": [
            "61003\n"
          ],
          "name": "stdout"
        },
        {
          "output_type": "execute_result",
          "data": {
            "text/plain": [
              "(11118, 61003)"
            ]
          },
          "metadata": {
            "tags": []
          },
          "execution_count": 53
        }
      ]
    },
    {
      "cell_type": "code",
      "metadata": {
        "id": "M0dRiYy3IGcC"
      },
      "source": [
        "# create coocuurance matrix\r\n",
        "Xc = (X.T * X) # This is the matrix manipulation step\r\n",
        "Xc.setdiag(0) #np.fill_diagonal(Xc, 0)\r\n",
        "X_svd = lsa.fit_transform(Xc)"
      ],
      "execution_count": 42,
      "outputs": []
    },
    {
      "cell_type": "code",
      "metadata": {
        "colab": {
          "base_uri": "https://localhost:8080/"
        },
        "id": "jhHMBZBEUNUC",
        "outputId": "5787b27e-bbf1-440d-fb65-5aee322b26a5"
      },
      "source": [
        "X_svd"
      ],
      "execution_count": 43,
      "outputs": [
        {
          "output_type": "execute_result",
          "data": {
            "text/plain": [
              "array([[ 8.67964979e-01, -3.47749916e-02,  2.12370685e-02, ...,\n",
              "         2.11986324e-04,  1.45124284e-02,  3.49327490e-02],\n",
              "       [ 2.47147302e-01, -1.91637096e-01,  8.41187066e-02, ...,\n",
              "         8.62355676e-02, -8.78038710e-02, -1.15892821e-01],\n",
              "       [ 6.14749378e-01, -2.89054328e-01, -1.20705734e-01, ...,\n",
              "         3.15577201e-02, -5.18217120e-02,  2.46298871e-02],\n",
              "       ...,\n",
              "       [ 3.85807723e-01, -3.00989668e-01,  2.37793366e-01, ...,\n",
              "         2.70305314e-01, -4.73269202e-02, -4.77134703e-02],\n",
              "       [ 5.95928664e-01, -2.83210809e-01,  2.39905202e-02, ...,\n",
              "        -4.93378718e-02, -3.15521112e-02,  4.26959416e-02],\n",
              "       [ 3.82587245e-01, -1.81409118e-01, -8.34224736e-02, ...,\n",
              "        -3.62529528e-02, -6.02731520e-02,  1.20432110e-02]])"
            ]
          },
          "metadata": {
            "tags": []
          },
          "execution_count": 43
        }
      ]
    },
    {
      "cell_type": "code",
      "metadata": {
        "id": "KTk0XnnYK7lN"
      },
      "source": [
        "best_fearures = [feature_names[i] for i in svd.components_[0].argsort()[::-1]]\r\n",
        "Xc.shape\r\n",
        "len(feature_names)\r\n",
        "best_fearures"
      ],
      "execution_count": null,
      "outputs": []
    },
    {
      "cell_type": "code",
      "metadata": {
        "id": "OseIWb2TJn3y"
      },
      "source": [
        "df1 = pd.DataFrame(X_svd,columns=best_fearures[0:100] )\r\n",
        "df1\r\n",
        "df1.to_csv('to_gephi.csv', sep = ',')\r\n",
        "#files.download()"
      ],
      "execution_count": null,
      "outputs": []
    },
    {
      "cell_type": "code",
      "metadata": {
        "id": "N_JN7F1nJMro"
      },
      "source": [
        "feature_names[9000:]"
      ],
      "execution_count": null,
      "outputs": []
    },
    {
      "cell_type": "markdown",
      "metadata": {
        "id": "JjDxv-k_QuJ-"
      },
      "source": [
        "##Porting and Displaying on Gephi as a Network Graph"
      ]
    },
    {
      "cell_type": "code",
      "metadata": {
        "id": "coITCbP-Tjuu"
      },
      "source": [
        ""
      ],
      "execution_count": null,
      "outputs": []
    },
    {
      "cell_type": "code",
      "metadata": {
        "colab": {
          "base_uri": "https://localhost:8080/"
        },
        "id": "13VHgpCOPF6b",
        "outputId": "b5b5ca69-06a8-4758-85c0-b38f615d4619"
      },
      "source": [
        "len(best_fearures[0:100])"
      ],
      "execution_count": null,
      "outputs": [
        {
          "output_type": "execute_result",
          "data": {
            "text/plain": [
              "100"
            ]
          },
          "metadata": {
            "tags": []
          },
          "execution_count": 23
        }
      ]
    },
    {
      "cell_type": "markdown",
      "metadata": {
        "id": "URHsia86DeuX"
      },
      "source": [
        "# Co occurrance analysis"
      ]
    },
    {
      "cell_type": "code",
      "metadata": {
        "id": "Vj85qX91dU9J"
      },
      "source": [
        "import cocoscore"
      ],
      "execution_count": null,
      "outputs": []
    },
    {
      "cell_type": "code",
      "metadata": {
        "id": "7zaJAk5XEUUu"
      },
      "source": [
        "data = ' '.join(df['Text'])"
      ],
      "execution_count": null,
      "outputs": []
    },
    {
      "cell_type": "code",
      "metadata": {
        "colab": {
          "base_uri": "https://localhost:8080/"
        },
        "id": "Xs5UqRJDDuIx",
        "outputId": "0484f47f-e941-4102-fbe5-25b0950ba0ce"
      },
      "source": [
        "!./fasttext skipgram -input data.txt -output model"
      ],
      "execution_count": null,
      "outputs": [
        {
          "output_type": "stream",
          "text": [
            "/bin/bash: ./fasttext: No such file or directory\n"
          ],
          "name": "stdout"
        }
      ]
    },
    {
      "cell_type": "markdown",
      "metadata": {
        "id": "MlE129FVbsEb"
      },
      "source": [
        "# Open Infromation Extraction"
      ]
    },
    {
      "cell_type": "code",
      "metadata": {
        "id": "HPowI1TKD3B7"
      },
      "source": [
        "!pip install stanford-openie"
      ],
      "execution_count": null,
      "outputs": []
    },
    {
      "cell_type": "code",
      "metadata": {
        "colab": {
          "base_uri": "https://localhost:8080/",
          "height": 497
        },
        "id": "7qMAD_D_bv0Z",
        "outputId": "7a1069c8-d374-4c03-cf85-0b0a2957b7f2"
      },
      "source": [
        "from openie import StanfordOpenIE\r\n",
        "\r\n",
        "with StanfordOpenIE() as client:\r\n",
        "    text = 'Barack Obama was born in Hawaii. Richard Manning wrote this sentence.'\r\n",
        "    print('Text: %s.' % text)\r\n",
        "    for triple in client.annotate(text):\r\n",
        "        print('|-', triple)\r\n",
        "\r\n",
        "    graph_image = 'graph.png'\r\n",
        "    client.generate_graphviz_graph(text, graph_image)\r\n",
        "    print('Graph generated: %s.' % graph_image)\r\n",
        "\r\n",
        "    with open('corpus/pg6130.txt', 'r', encoding='utf8') as r:\r\n",
        "        corpus = r.read().replace('\\n', ' ').replace('\\r', '')\r\n",
        "\r\n",
        "    triples_corpus = client.annotate(corpus[0:50000])\r\n",
        "    print('Corpus: %s [...].' % corpus[0:80])\r\n",
        "    print('Found %s triples in the corpus.' % len(triples_corpus))\r\n",
        "    for triple in triples_corpus[:3]:\r\n",
        "        print('|-', triple)"
      ],
      "execution_count": 62,
      "outputs": [
        {
          "output_type": "stream",
          "text": [
            "Downloading to /root/stanfordnlp_resources.\n",
            "\n",
            "Extracting to /root/stanfordnlp_resources.\n",
            "Text: Barack Obama was born in Hawaii. Richard Manning wrote this sentence..\n",
            "Starting server with command: java -Xmx8G -cp /root/stanfordnlp_resources/stanford-corenlp-full-2018-10-05/* edu.stanford.nlp.pipeline.StanfordCoreNLPServer -port 9000 -timeout 60000 -threads 5 -maxCharLength 100000 -quiet True -serverProperties corenlp_server-b018dd97b6004a22.props -preload openie\n"
          ],
          "name": "stdout"
        },
        {
          "output_type": "error",
          "ename": "PermanentlyFailedException",
          "evalue": "ignored",
          "traceback": [
            "\u001b[0;31m---------------------------------------------------------------------------\u001b[0m",
            "\u001b[0;31mPermanentlyFailedException\u001b[0m                Traceback (most recent call last)",
            "\u001b[0;32m<ipython-input-62-01d7100eb03f>\u001b[0m in \u001b[0;36m<module>\u001b[0;34m()\u001b[0m\n\u001b[1;32m      4\u001b[0m     \u001b[0mtext\u001b[0m \u001b[0;34m=\u001b[0m \u001b[0;34m'Barack Obama was born in Hawaii. Richard Manning wrote this sentence.'\u001b[0m\u001b[0;34m\u001b[0m\u001b[0;34m\u001b[0m\u001b[0m\n\u001b[1;32m      5\u001b[0m     \u001b[0mprint\u001b[0m\u001b[0;34m(\u001b[0m\u001b[0;34m'Text: %s.'\u001b[0m \u001b[0;34m%\u001b[0m \u001b[0mtext\u001b[0m\u001b[0;34m)\u001b[0m\u001b[0;34m\u001b[0m\u001b[0;34m\u001b[0m\u001b[0m\n\u001b[0;32m----> 6\u001b[0;31m     \u001b[0;32mfor\u001b[0m \u001b[0mtriple\u001b[0m \u001b[0;32min\u001b[0m \u001b[0mclient\u001b[0m\u001b[0;34m.\u001b[0m\u001b[0mannotate\u001b[0m\u001b[0;34m(\u001b[0m\u001b[0mtext\u001b[0m\u001b[0;34m)\u001b[0m\u001b[0;34m:\u001b[0m\u001b[0;34m\u001b[0m\u001b[0;34m\u001b[0m\u001b[0m\n\u001b[0m\u001b[1;32m      7\u001b[0m         \u001b[0mprint\u001b[0m\u001b[0;34m(\u001b[0m\u001b[0;34m'|-'\u001b[0m\u001b[0;34m,\u001b[0m \u001b[0mtriple\u001b[0m\u001b[0;34m)\u001b[0m\u001b[0;34m\u001b[0m\u001b[0;34m\u001b[0m\u001b[0m\n\u001b[1;32m      8\u001b[0m \u001b[0;34m\u001b[0m\u001b[0m\n",
            "\u001b[0;32m/usr/local/lib/python3.6/dist-packages/openie/openie.py\u001b[0m in \u001b[0;36mannotate\u001b[0;34m(self, text, properties_key, properties, simple_format)\u001b[0m\n\u001b[1;32m     37\u001b[0m         \u001b[0;31m# https://stanfordnlp.github.io/CoreNLP/openie.html\u001b[0m\u001b[0;34m\u001b[0m\u001b[0;34m\u001b[0m\u001b[0;34m\u001b[0m\u001b[0m\n\u001b[1;32m     38\u001b[0m         core_nlp_output = self.client.annotate(text=text, annotators=['openie'], output_format='json',\n\u001b[0;32m---> 39\u001b[0;31m                                                properties_key=properties_key, properties=properties)\n\u001b[0m\u001b[1;32m     40\u001b[0m         \u001b[0;32mif\u001b[0m \u001b[0msimple_format\u001b[0m\u001b[0;34m:\u001b[0m\u001b[0;34m\u001b[0m\u001b[0;34m\u001b[0m\u001b[0m\n\u001b[1;32m     41\u001b[0m             \u001b[0mtriples\u001b[0m \u001b[0;34m=\u001b[0m \u001b[0;34m[\u001b[0m\u001b[0;34m]\u001b[0m\u001b[0;34m\u001b[0m\u001b[0;34m\u001b[0m\u001b[0m\n",
            "\u001b[0;32m/usr/local/lib/python3.6/dist-packages/stanfordnlp/server/client.py\u001b[0m in \u001b[0;36mannotate\u001b[0;34m(self, text, annotators, output_format, properties_key, properties, **kwargs)\u001b[0m\n\u001b[1;32m    396\u001b[0m                 \u001b[0mrequest_properties\u001b[0m\u001b[0;34m[\u001b[0m\u001b[0;34m'outputFormat'\u001b[0m\u001b[0;34m]\u001b[0m \u001b[0;34m=\u001b[0m \u001b[0mCoreNLPClient\u001b[0m\u001b[0;34m.\u001b[0m\u001b[0mDEFAULT_OUTPUT_FORMAT\u001b[0m\u001b[0;34m\u001b[0m\u001b[0;34m\u001b[0m\u001b[0m\n\u001b[1;32m    397\u001b[0m         \u001b[0;31m# make the request\u001b[0m\u001b[0;34m\u001b[0m\u001b[0;34m\u001b[0m\u001b[0;34m\u001b[0m\u001b[0m\n\u001b[0;32m--> 398\u001b[0;31m         \u001b[0mr\u001b[0m \u001b[0;34m=\u001b[0m \u001b[0mself\u001b[0m\u001b[0;34m.\u001b[0m\u001b[0m_request\u001b[0m\u001b[0;34m(\u001b[0m\u001b[0mtext\u001b[0m\u001b[0;34m.\u001b[0m\u001b[0mencode\u001b[0m\u001b[0;34m(\u001b[0m\u001b[0;34m'utf-8'\u001b[0m\u001b[0;34m)\u001b[0m\u001b[0;34m,\u001b[0m \u001b[0mrequest_properties\u001b[0m\u001b[0;34m,\u001b[0m \u001b[0;34m**\u001b[0m\u001b[0mkwargs\u001b[0m\u001b[0;34m)\u001b[0m\u001b[0;34m\u001b[0m\u001b[0;34m\u001b[0m\u001b[0m\n\u001b[0m\u001b[1;32m    399\u001b[0m         \u001b[0;32mif\u001b[0m \u001b[0mrequest_properties\u001b[0m\u001b[0;34m[\u001b[0m\u001b[0;34m\"outputFormat\"\u001b[0m\u001b[0;34m]\u001b[0m \u001b[0;34m==\u001b[0m \u001b[0;34m\"json\"\u001b[0m\u001b[0;34m:\u001b[0m\u001b[0;34m\u001b[0m\u001b[0;34m\u001b[0m\u001b[0m\n\u001b[1;32m    400\u001b[0m             \u001b[0;32mreturn\u001b[0m \u001b[0mr\u001b[0m\u001b[0;34m.\u001b[0m\u001b[0mjson\u001b[0m\u001b[0;34m(\u001b[0m\u001b[0;34m)\u001b[0m\u001b[0;34m\u001b[0m\u001b[0;34m\u001b[0m\u001b[0m\n",
            "\u001b[0;32m/usr/local/lib/python3.6/dist-packages/stanfordnlp/server/client.py\u001b[0m in \u001b[0;36m_request\u001b[0;34m(self, buf, properties, **kwargs)\u001b[0m\n\u001b[1;32m    309\u001b[0m         \u001b[0;34m:\u001b[0m\u001b[0;32mreturn\u001b[0m\u001b[0;34m:\u001b[0m \u001b[0mrequest\u001b[0m \u001b[0mresult\u001b[0m\u001b[0;34m\u001b[0m\u001b[0;34m\u001b[0m\u001b[0m\n\u001b[1;32m    310\u001b[0m         \"\"\"\n\u001b[0;32m--> 311\u001b[0;31m         \u001b[0mself\u001b[0m\u001b[0;34m.\u001b[0m\u001b[0mensure_alive\u001b[0m\u001b[0;34m(\u001b[0m\u001b[0;34m)\u001b[0m\u001b[0;34m\u001b[0m\u001b[0;34m\u001b[0m\u001b[0m\n\u001b[0m\u001b[1;32m    312\u001b[0m \u001b[0;34m\u001b[0m\u001b[0m\n\u001b[1;32m    313\u001b[0m         \u001b[0;32mtry\u001b[0m\u001b[0;34m:\u001b[0m\u001b[0;34m\u001b[0m\u001b[0;34m\u001b[0m\u001b[0m\n",
            "\u001b[0;32m/usr/local/lib/python3.6/dist-packages/stanfordnlp/server/client.py\u001b[0m in \u001b[0;36mensure_alive\u001b[0;34m(self)\u001b[0m\n\u001b[1;32m    135\u001b[0m                 \u001b[0mtime\u001b[0m\u001b[0;34m.\u001b[0m\u001b[0msleep\u001b[0m\u001b[0;34m(\u001b[0m\u001b[0;36m1\u001b[0m\u001b[0;34m)\u001b[0m\u001b[0;34m\u001b[0m\u001b[0;34m\u001b[0m\u001b[0m\n\u001b[1;32m    136\u001b[0m             \u001b[0;32melse\u001b[0m\u001b[0;34m:\u001b[0m\u001b[0;34m\u001b[0m\u001b[0;34m\u001b[0m\u001b[0m\n\u001b[0;32m--> 137\u001b[0;31m                 \u001b[0;32mraise\u001b[0m \u001b[0mPermanentlyFailedException\u001b[0m\u001b[0;34m(\u001b[0m\u001b[0;34m\"Timed out waiting for service to come alive.\"\u001b[0m\u001b[0;34m)\u001b[0m\u001b[0;34m\u001b[0m\u001b[0;34m\u001b[0m\u001b[0m\n\u001b[0m\u001b[1;32m    138\u001b[0m \u001b[0;34m\u001b[0m\u001b[0m\n\u001b[1;32m    139\u001b[0m         \u001b[0;31m# At this point we are guaranteed that the service is alive.\u001b[0m\u001b[0;34m\u001b[0m\u001b[0;34m\u001b[0m\u001b[0;34m\u001b[0m\u001b[0m\n",
            "\u001b[0;31mPermanentlyFailedException\u001b[0m: Timed out waiting for service to come alive."
          ]
        }
      ]
    },
    {
      "cell_type": "code",
      "metadata": {
        "id": "sU8xICtvb4oV"
      },
      "source": [
        ""
      ],
      "execution_count": null,
      "outputs": []
    }
  ]
}