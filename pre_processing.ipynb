{
  "nbformat": 4,
  "nbformat_minor": 0,
  "metadata": {
    "colab": {
      "name": "pre-processing.ipynb",
      "provenance": [],
      "collapsed_sections": [],
      "mount_file_id": "1Q6Wa16x3t29yJcTqT9sjD965RZjqUG_6",
      "authorship_tag": "ABX9TyN7MToMigvi5Pa79EoJDEx2",
      "include_colab_link": true
    },
    "kernelspec": {
      "name": "python3",
      "display_name": "Python 3"
    }
  },
  "cells": [
    {
      "cell_type": "markdown",
      "metadata": {
        "id": "view-in-github",
        "colab_type": "text"
      },
      "source": [
        "<a href=\"https://colab.research.google.com/github/jrakhshanda/Bayesian-Methods/blob/master/pre_processing.ipynb\" target=\"_parent\"><img src=\"https://colab.research.google.com/assets/colab-badge.svg\" alt=\"Open In Colab\"/></a>"
      ]
    },
    {
      "cell_type": "code",
      "metadata": {
        "id": "746tSyYDjS3F"
      },
      "source": [
        "!pip install biopython\r\n",
        "!pip install  gatenlp\r\n",
        "!pip install scispacy \r\n",
        "!pip install swifter\r\n"
      ],
      "execution_count": null,
      "outputs": []
    },
    {
      "cell_type": "code",
      "metadata": {
        "id": "0NDnX95zjSQw"
      },
      "source": [
        "!pip install https://s3-us-west-2.amazonaws.com/ai2-s2-scispacy/releases/v0.3.0/en_core_sci_md-0.3.0.tar.gz\r\n",
        "!pip install https://s3-us-west-2.amazonaws.com/ai2-s2-scispacy/releases/v0.3.0/en_ner_bc5cdr_md-0.3.0.tar.gz\r\n",
        "!pip install https://s3-us-west-2.amazonaws.com/ai2-s2-scispacy/releases/v0.3.0/en_ner_bionlp13cg_md-0.3.0.tar.gz\r\n",
        "!pip install https://s3-us-west-2.amazonaws.com/ai2-s2-scispacy/releases/v0.3.0/en_ner_jnlpba_md-0.3.0.tar.gz"
      ],
      "execution_count": null,
      "outputs": []
    },
    {
      "cell_type": "code",
      "metadata": {
        "id": "x1qUA1bklRDg"
      },
      "source": [
        "%%capture\r\n",
        "!wget https://raw.githubusercontent.com/WuraolaOyewusi/How-to-use-scispaCy-Entity-Linkers-for-Biomedical-Named-Entities/master/entities_and_label_from_4_scispacy_NER_models.csv"
      ],
      "execution_count": 209,
      "outputs": []
    },
    {
      "cell_type": "code",
      "metadata": {
        "colab": {
          "base_uri": "https://localhost:8080/"
        },
        "id": "83zTuII36Yux",
        "outputId": "2bc517b2-c943-4fba-c5de-9496c6e27a61"
      },
      "source": [
        "print(scispacy.__version__)"
      ],
      "execution_count": 118,
      "outputs": [
        {
          "output_type": "stream",
          "text": [
            "0.3.0\n"
          ],
          "name": "stdout"
        }
      ]
    },
    {
      "cell_type": "code",
      "metadata": {
        "id": "UpoHfhoTjaYr"
      },
      "source": [
        "#general importation\r\n",
        "import numpy as np\r\n",
        "import pandas as pd\r\n",
        "pd.options.mode.chained_assignment = None  # default='warn'\r\n",
        "\r\n",
        "import time\r\n",
        "import random\r\n",
        "import matplotlib.pyplot as plt\r\n",
        "%matplotlib inline\r\n",
        "\r\n",
        "#Natural Language processing\r\n",
        "import regex as re\r\n",
        "import nltk\r\n",
        "from nltk.stem.porter import PorterStemmer \r\n",
        "from nltk.corpus import stopwords\r\n",
        "from nltk.tokenize import word_tokenize, sent_tokenize\r\n",
        "nltk.download('stopwords')\r\n",
        "nltk.download('punkt')\r\n",
        "nltk.download('averaged_perceptron_tagger')\r\n",
        "from sklearn.feature_extraction.text import CountVectorizer\r\n",
        "from sklearn import linear_model, svm\r\n",
        "from sklearn.pipeline import Pipeline\r\n",
        "from sklearn.metrics import f1_score, accuracy_score, recall_score\r\n",
        "\r\n",
        "import gatenlp\r\n",
        "\r\n",
        "import gensim\r\n",
        "from gensim.models.word2vec import Word2Vec\r\n",
        "\r\n",
        "from google.colab import files\r\n",
        "\r\n",
        "from IPython.display import clear_output\r\n",
        "clear_output() #for clarity"
      ],
      "execution_count": 205,
      "outputs": []
    },
    {
      "cell_type": "code",
      "metadata": {
        "id": "147fP0FGl44r"
      },
      "source": [
        "import spacy\r\n",
        "import scispacy\r\n",
        "import swifter\r\n",
        "import pandas as pd\r\n",
        "from spacy import displacy\r\n",
        "\r\n",
        "#import en_core_sci_sm\r\n",
        "\r\n",
        "import en_core_sci_md\r\n",
        "import en_ner_bc5cdr_md\r\n",
        "import en_ner_jnlpba_md\r\n",
        "#import en_ner_craft_md\r\n",
        "import en_ner_bionlp13cg_md\r\n",
        "\r\n",
        "from scispacy.abbreviation import AbbreviationDetector\r\n",
        "from scispacy.linking import EntityLinker\r\n",
        "from collections import OrderedDict,Counter\r\n",
        "\r\n",
        "from pprint import pprint\r\n",
        "from tqdm import tqdm\r\n",
        "tqdm.pandas()\r\n",
        "\r\n",
        "from IPython.display import clear_output\r\n",
        "clear_output() #for clarity"
      ],
      "execution_count": 216,
      "outputs": []
    },
    {
      "cell_type": "code",
      "metadata": {
        "id": "V1iqcGxSjcwh"
      },
      "source": [
        "df = pd.read_csv('/content/drive/MyDrive/data/corona_virus.csv')\r\n",
        "data = []\r\n",
        "for i in range(0,df.shape[0]):\r\n",
        "  data.append(df['Title'][i] +'. '+ df['Abstract'][i])"
      ],
      "execution_count": 217,
      "outputs": []
    },
    {
      "cell_type": "code",
      "metadata": {
        "colab": {
          "base_uri": "https://localhost:8080/",
          "height": 281
        },
        "id": "PBkcVmhkjqjL",
        "outputId": "422c0102-6787-457d-a118-a6cae5f04b5e"
      },
      "source": [
        "df.head()"
      ],
      "execution_count": 218,
      "outputs": [
        {
          "output_type": "execute_result",
          "data": {
            "text/html": [
              "<div>\n",
              "<style scoped>\n",
              "    .dataframe tbody tr th:only-of-type {\n",
              "        vertical-align: middle;\n",
              "    }\n",
              "\n",
              "    .dataframe tbody tr th {\n",
              "        vertical-align: top;\n",
              "    }\n",
              "\n",
              "    .dataframe thead th {\n",
              "        text-align: right;\n",
              "    }\n",
              "</style>\n",
              "<table border=\"1\" class=\"dataframe\">\n",
              "  <thead>\n",
              "    <tr style=\"text-align: right;\">\n",
              "      <th></th>\n",
              "      <th>Unnamed: 0</th>\n",
              "      <th>PMID</th>\n",
              "      <th>Title</th>\n",
              "      <th>Authors</th>\n",
              "      <th>Abstract</th>\n",
              "    </tr>\n",
              "  </thead>\n",
              "  <tbody>\n",
              "    <tr>\n",
              "      <th>0</th>\n",
              "      <td>0</td>\n",
              "      <td>32275259</td>\n",
              "      <td>SARS-CoV-2, SARS-CoV, and MERS-COV: A comparat...</td>\n",
              "      <td>Rabaan AA, Al-Ahmed SH, Haque S, Sah R, Tiwari...</td>\n",
              "      <td>The recent outbreak of SARS-CoV-2 that started...</td>\n",
              "    </tr>\n",
              "    <tr>\n",
              "      <th>1</th>\n",
              "      <td>1</td>\n",
              "      <td>19198616</td>\n",
              "      <td>The spike protein of SARS-CoV--a target for va...</td>\n",
              "      <td>Du L, He Y, Zhou Y, Liu S, Zheng BJ, Jiang S.</td>\n",
              "      <td>Severe acute respiratory syndrome (SARS) is a ...</td>\n",
              "    </tr>\n",
              "    <tr>\n",
              "      <th>2</th>\n",
              "      <td>2</td>\n",
              "      <td>32347053</td>\n",
              "      <td>[Diagnosis, treatment, control and prevention ...</td>\n",
              "      <td>Ye ZW, Jin DY.</td>\n",
              "      <td>The ongoing outbreak of the coronavirus diseas...</td>\n",
              "    </tr>\n",
              "    <tr>\n",
              "      <th>3</th>\n",
              "      <td>3</td>\n",
              "      <td>32333222</td>\n",
              "      <td>The genetic sequence, origin, and diagnosis of...</td>\n",
              "      <td>Wang H, Li X, Li T, Zhang S, Wang L, Wu X, Liu J.</td>\n",
              "      <td>Coronavirus disease 2019 (COVID-19), caused by...</td>\n",
              "    </tr>\n",
              "    <tr>\n",
              "      <th>4</th>\n",
              "      <td>4</td>\n",
              "      <td>32302058</td>\n",
              "      <td>Laboratory testing of SARS-CoV, MERS-CoV, and ...</td>\n",
              "      <td>Yan Y, Chang L, Wang L.</td>\n",
              "      <td>Emerging and reemerging infectious diseases ar...</td>\n",
              "    </tr>\n",
              "  </tbody>\n",
              "</table>\n",
              "</div>"
            ],
            "text/plain": [
              "   Unnamed: 0  ...                                           Abstract\n",
              "0           0  ...  The recent outbreak of SARS-CoV-2 that started...\n",
              "1           1  ...  Severe acute respiratory syndrome (SARS) is a ...\n",
              "2           2  ...  The ongoing outbreak of the coronavirus diseas...\n",
              "3           3  ...  Coronavirus disease 2019 (COVID-19), caused by...\n",
              "4           4  ...  Emerging and reemerging infectious diseases ar...\n",
              "\n",
              "[5 rows x 5 columns]"
            ]
          },
          "metadata": {
            "tags": []
          },
          "execution_count": 218
        }
      ]
    },
    {
      "cell_type": "markdown",
      "metadata": {
        "id": "2HyX8y2kmTec"
      },
      "source": [
        "## Pre-Processing"
      ]
    },
    {
      "cell_type": "markdown",
      "metadata": {
        "id": "WvZlxWuB7HTV"
      },
      "source": [
        "### Stop Words Removal using apacy and scispacy"
      ]
    },
    {
      "cell_type": "code",
      "metadata": {
        "id": "k00E-d9ojsh8"
      },
      "source": [
        "def preprocess(text):\r\n",
        "\r\n",
        "  text = remove_stopwords(text) \r\n",
        "  text = stem_text(text)\r\n",
        "  text = strip_multiple_whitespaces(text)\r\n",
        "  text =  strip_punctuation(text)\r\n",
        "  tokens = tokenize(text)\r\n",
        "  return(list(tokens))"
      ],
      "execution_count": 141,
      "outputs": []
    },
    {
      "cell_type": "code",
      "metadata": {
        "id": "N1sPzmWS7qKW"
      },
      "source": [
        "text = df['Abstract'][1]"
      ],
      "execution_count": 142,
      "outputs": []
    },
    {
      "cell_type": "code",
      "metadata": {
        "id": "VGGoFPNsCiYu"
      },
      "source": [
        "nlp = spacy.load(\"en_core_web_sm\",disable=[\"tagger\", \"parser\",\"ner\"])\r\n",
        "def preprocess(text):\r\n",
        "  \"\"\"\r\n",
        "  This Function will take one input argument text.\r\n",
        "  spllit the sentences in text.\r\n",
        "  remove stop words\r\n",
        "  remove punctuations\r\n",
        "  \"\"\"\r\n",
        "  stop_words = set(stopwords.words('english'))\r\n",
        "  stemmer = PorterStemmer()\r\n",
        "  #text = sent_tokenize(text)\r\n",
        "\r\n",
        "  text = re.sub(r\"\\p{P}\", lambda m: \"-\" if m.group(0) == \"-\" else \"\", text) # removing punctuations\r\n",
        "  tokens = word_tokenize(text) # tokenize\r\n",
        "  \r\n",
        "  #stems =[stemmer.stem(word) for word in tokens] #lemmatization\r\n",
        "  \r\n",
        "  filtered_text = []\r\n",
        "  for w in tokens: \r\n",
        "    if w not in stop_words: \r\n",
        "      filtered_text.append(w) \r\n",
        "\r\n",
        "  return(filtered_text)"
      ],
      "execution_count": 168,
      "outputs": []
    },
    {
      "cell_type": "code",
      "metadata": {
        "id": "hx2wVK3EINpY"
      },
      "source": [
        "#preprocess(data[3])\r\n",
        "t = preprocess(data[1])"
      ],
      "execution_count": 169,
      "outputs": []
    },
    {
      "cell_type": "markdown",
      "metadata": {
        "id": "Jf34FG4syBKx"
      },
      "source": [
        "## Entities Extraction and Linking Using scispacy"
      ]
    },
    {
      "cell_type": "code",
      "metadata": {
        "id": "eMkC3cf64Mwq"
      },
      "source": [
        "def display_entities(model,document):\r\n",
        "    \"\"\" A function that returns a tuple of displacy image of named or unnamed word entities and\r\n",
        "        a set of unique entities recognized based on scispacy model in use\r\n",
        "        Args: \r\n",
        "            model: A pretrained model from spaCy or ScispaCy\r\n",
        "            document: text data to be analysed\"\"\"\r\n",
        "    nlp = model.load()\r\n",
        "    doc = nlp(document)\r\n",
        "    displacy_image = displacy.render(doc, jupyter=True,style='ent')\r\n",
        "    entity_and_label = set([(X.text, X.label_) for X in doc.ents])\r\n",
        "    return  displacy_image, entity_and_label"
      ],
      "execution_count": 227,
      "outputs": []
    },
    {
      "cell_type": "code",
      "metadata": {
        "colab": {
          "base_uri": "https://localhost:8080/",
          "height": 314
        },
        "id": "H5pwYst2IGRD",
        "outputId": "05f93c9e-0ee3-46b4-a8c6-3917157cf3e4"
      },
      "source": [
        "spacy.load('en_ner_bc5cdr_md')"
      ],
      "execution_count": 226,
      "outputs": [
        {
          "output_type": "error",
          "ename": "OSError",
          "evalue": "ignored",
          "traceback": [
            "\u001b[0;31m---------------------------------------------------------------------------\u001b[0m",
            "\u001b[0;31mOSError\u001b[0m                                   Traceback (most recent call last)",
            "\u001b[0;32m<ipython-input-226-f181fba6f524>\u001b[0m in \u001b[0;36m<module>\u001b[0;34m()\u001b[0m\n\u001b[0;32m----> 1\u001b[0;31m \u001b[0mspacy\u001b[0m\u001b[0;34m.\u001b[0m\u001b[0mload\u001b[0m\u001b[0;34m(\u001b[0m\u001b[0;34m'en_ner_bc5cdr_md'\u001b[0m\u001b[0;34m)\u001b[0m\u001b[0;34m\u001b[0m\u001b[0;34m\u001b[0m\u001b[0m\n\u001b[0m",
            "\u001b[0;32m/usr/local/lib/python3.6/dist-packages/spacy/__init__.py\u001b[0m in \u001b[0;36mload\u001b[0;34m(name, **overrides)\u001b[0m\n\u001b[1;32m     28\u001b[0m     \u001b[0;32mif\u001b[0m \u001b[0mdepr_path\u001b[0m \u001b[0;32mnot\u001b[0m \u001b[0;32min\u001b[0m \u001b[0;34m(\u001b[0m\u001b[0;32mTrue\u001b[0m\u001b[0;34m,\u001b[0m \u001b[0;32mFalse\u001b[0m\u001b[0;34m,\u001b[0m \u001b[0;32mNone\u001b[0m\u001b[0;34m)\u001b[0m\u001b[0;34m:\u001b[0m\u001b[0;34m\u001b[0m\u001b[0;34m\u001b[0m\u001b[0m\n\u001b[1;32m     29\u001b[0m         \u001b[0mwarnings\u001b[0m\u001b[0;34m.\u001b[0m\u001b[0mwarn\u001b[0m\u001b[0;34m(\u001b[0m\u001b[0mWarnings\u001b[0m\u001b[0;34m.\u001b[0m\u001b[0mW001\u001b[0m\u001b[0;34m.\u001b[0m\u001b[0mformat\u001b[0m\u001b[0;34m(\u001b[0m\u001b[0mpath\u001b[0m\u001b[0;34m=\u001b[0m\u001b[0mdepr_path\u001b[0m\u001b[0;34m)\u001b[0m\u001b[0;34m,\u001b[0m \u001b[0mDeprecationWarning\u001b[0m\u001b[0;34m)\u001b[0m\u001b[0;34m\u001b[0m\u001b[0;34m\u001b[0m\u001b[0m\n\u001b[0;32m---> 30\u001b[0;31m     \u001b[0;32mreturn\u001b[0m \u001b[0mutil\u001b[0m\u001b[0;34m.\u001b[0m\u001b[0mload_model\u001b[0m\u001b[0;34m(\u001b[0m\u001b[0mname\u001b[0m\u001b[0;34m,\u001b[0m \u001b[0;34m**\u001b[0m\u001b[0moverrides\u001b[0m\u001b[0;34m)\u001b[0m\u001b[0;34m\u001b[0m\u001b[0;34m\u001b[0m\u001b[0m\n\u001b[0m\u001b[1;32m     31\u001b[0m \u001b[0;34m\u001b[0m\u001b[0m\n\u001b[1;32m     32\u001b[0m \u001b[0;34m\u001b[0m\u001b[0m\n",
            "\u001b[0;32m/usr/local/lib/python3.6/dist-packages/spacy/util.py\u001b[0m in \u001b[0;36mload_model\u001b[0;34m(name, **overrides)\u001b[0m\n\u001b[1;32m    167\u001b[0m         \u001b[0;32mif\u001b[0m \u001b[0mname\u001b[0m \u001b[0;32min\u001b[0m \u001b[0mset\u001b[0m\u001b[0;34m(\u001b[0m\u001b[0;34m[\u001b[0m\u001b[0md\u001b[0m\u001b[0;34m.\u001b[0m\u001b[0mname\u001b[0m \u001b[0;32mfor\u001b[0m \u001b[0md\u001b[0m \u001b[0;32min\u001b[0m \u001b[0mdata_path\u001b[0m\u001b[0;34m.\u001b[0m\u001b[0miterdir\u001b[0m\u001b[0;34m(\u001b[0m\u001b[0;34m)\u001b[0m\u001b[0;34m]\u001b[0m\u001b[0;34m)\u001b[0m\u001b[0;34m:\u001b[0m\u001b[0;34m\u001b[0m\u001b[0;34m\u001b[0m\u001b[0m\n\u001b[1;32m    168\u001b[0m             \u001b[0;32mreturn\u001b[0m \u001b[0mload_model_from_link\u001b[0m\u001b[0;34m(\u001b[0m\u001b[0mname\u001b[0m\u001b[0;34m,\u001b[0m \u001b[0;34m**\u001b[0m\u001b[0moverrides\u001b[0m\u001b[0;34m)\u001b[0m\u001b[0;34m\u001b[0m\u001b[0;34m\u001b[0m\u001b[0m\n\u001b[0;32m--> 169\u001b[0;31m         \u001b[0;32mif\u001b[0m \u001b[0mis_package\u001b[0m\u001b[0;34m(\u001b[0m\u001b[0mname\u001b[0m\u001b[0;34m)\u001b[0m\u001b[0;34m:\u001b[0m  \u001b[0;31m# installed as package\u001b[0m\u001b[0;34m\u001b[0m\u001b[0;34m\u001b[0m\u001b[0m\n\u001b[0m\u001b[1;32m    170\u001b[0m             \u001b[0;32mreturn\u001b[0m \u001b[0mload_model_from_package\u001b[0m\u001b[0;34m(\u001b[0m\u001b[0mname\u001b[0m\u001b[0;34m,\u001b[0m \u001b[0;34m**\u001b[0m\u001b[0moverrides\u001b[0m\u001b[0;34m)\u001b[0m\u001b[0;34m\u001b[0m\u001b[0;34m\u001b[0m\u001b[0m\n\u001b[1;32m    171\u001b[0m         \u001b[0;32mif\u001b[0m \u001b[0mPath\u001b[0m\u001b[0;34m(\u001b[0m\u001b[0mname\u001b[0m\u001b[0;34m)\u001b[0m\u001b[0;34m.\u001b[0m\u001b[0mexists\u001b[0m\u001b[0;34m(\u001b[0m\u001b[0;34m)\u001b[0m\u001b[0;34m:\u001b[0m  \u001b[0;31m# path to model data directory\u001b[0m\u001b[0;34m\u001b[0m\u001b[0;34m\u001b[0m\u001b[0m\n",
            "\u001b[0;31mOSError\u001b[0m: [E050] Can't find model 'en_ner_bc5cdr_md'. It doesn't seem to be a shortcut link, a Python package or a valid path to a data directory."
          ]
        }
      ]
    },
    {
      "cell_type": "code",
      "metadata": {
        "colab": {
          "base_uri": "https://localhost:8080/",
          "height": 105
        },
        "id": "otf4fwN7bhmg",
        "outputId": "8628592b-be62-4bb0-f583-3a220ea3e163"
      },
      "source": [
        "nlp = "
      ],
      "execution_count": 194,
      "outputs": [
        {
          "output_type": "execute_result",
          "data": {
            "application/vnd.google.colaboratory.intrinsic+json": {
              "type": "string"
            },
            "text/plain": [
              "'The spike protein of SARS-CoV--a target for vaccine and therapeutic development. Severe acute respiratory syndrome (SARS) is a newly emerging infectious disease caused by a novel coronavirus, SARS-coronavirus (SARS-CoV). The SARS-CoV spike (S) protein is composed of two subunits; the S1 subunit contains a receptor-binding domain that engages with the host cell receptor angiotensin-converting enzyme 2 and the S2 subunit mediates fusion between the viral and host cell membranes. The S protein plays key parts in the induction of neutralizing-antibody and T-cell responses, as well as protective immunity, during infection with SARS-CoV. In this Review, we highlight recent advances in the development of vaccines and therapeutics based on the S protein.'"
            ]
          },
          "metadata": {
            "tags": []
          },
          "execution_count": 194
        }
      ]
    },
    {
      "cell_type": "code",
      "metadata": {
        "id": "DwI-U8WTczr3"
      },
      "source": [
        ""
      ],
      "execution_count": null,
      "outputs": []
    }
  ]
}